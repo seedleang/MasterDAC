{
 "cells": [
  {
   "cell_type": "markdown",
   "metadata": {},
   "source": [
    "# 8 /// Intervalles d'Allen ////////////////////////////////////////////////////////////////////////////////////////////////                                       "
   ]
  },
  {
   "cell_type": "markdown",
   "metadata": {},
   "source": [
    "### _/// Exercice 1 : utilitaires généraux_"
   ]
  },
  {
   "cell_type": "code",
   "execution_count": 21,
   "metadata": {},
   "outputs": [],
   "source": [
    "                                                                                 # question 1 : dictionnaire\n",
    "# -----------------------------------------------------------------------------------------------------------------------------\n",
    "# Charger un dictionnaire des relations valables, de leurs transposées et de leurs symétriques.\n",
    "\n",
    "# transpose : dict[str:str]\n",
    "transpose = {   '<':'>',\n",
    "                '>':'<',\n",
    "                'e':'et',\n",
    "                's':'st',\n",
    "                'et':'e',\n",
    "                'st':'s',\n",
    "                'd':'dt',\n",
    "                'm':'mt',\n",
    "                'dt':'d',\n",
    "                'mt':'m',\n",
    "                'o':'ot',\n",
    "                'ot':'o',\n",
    "                '=':'='     }\n",
    "\n",
    "# symetrie : dict[str:str]\n",
    "symetrie = {    '<':'>',\n",
    "                '>':'<',\n",
    "                'e':'s',\n",
    "                's':'e',\n",
    "                'et':'st',\n",
    "                'st':'et',\n",
    "                'd':'d',\n",
    "                'm':'mt',\n",
    "                'dt':'dt',\n",
    "                'mt':'m',\n",
    "                'o':'ot',\n",
    "                'ot':'o',\n",
    "                '=':'='     }            \n",
    "\n",
    "# compositionBase : dict[tuple[str,str]:set[str]]             \n",
    "compositionBase = {     ('<','<'):{'<'},\n",
    "                        ('<','m'):{'<'},\n",
    "                        ('<','o'):{'<'},\n",
    "                        ('<','et'):{'<'},\n",
    "                        ('<','s'):{'<'},\n",
    "                        ('<','d'):{'<','m','o','s','d'},\n",
    "                        ('<','dt'):{'<'},\n",
    "                        ('<','e'):{'<','m','o','s','d'},\n",
    "                        ('<','st'):{'<'},\n",
    "                        ('<','ot'):{'<','m','o','s','d'},\n",
    "                        ('<','mt'):{'<','m','o','s','d'},\n",
    "                        ('<','>'):{'<','>','m','mt','o','ot','e','et','s','st','d','dt','='},\n",
    "                        ('m','m'):{'<'},\n",
    "                        ('m','o'):{'<'},\n",
    "                        ('m','et'):{'<'},\n",
    "                        ('m','s'):{'m'},\n",
    "                        ('m','d'):{'o','s','d'},\n",
    "                        ('m','dt'):{'<'},\n",
    "                        ('m','e'):{'o','s','d'},\n",
    "                        ('m','st'):{'m'},\n",
    "                        ('m','ot'):{'o','s','d'},\n",
    "                        ('m','mt'):{'e','et','='},\n",
    "                        ('o','o'):{'<','m','o'},\n",
    "                        ('o','et'):{'<','m','o'},\n",
    "                        ('o','s'):{'o'},\n",
    "                        ('o','d'):{'o','s','d'},\n",
    "                        ('o','dt'):{'<','m','o','et','dt'},\n",
    "                        ('o','e'):{'o','s','d'},\n",
    "                        ('o','st'):{'o','et','dt'},\n",
    "                        ('o','ot'):{'o','ot','e','et','d','dt','st','s','='},\n",
    "                        ('s','et'):{'<','m','o'},\n",
    "                        ('s','s'):{'s'},\n",
    "                        ('s','d'):{'d'},\n",
    "                        ('s','dt'):{'<','m','o','et','dt'},\n",
    "                        ('s','e'):{'d'},\n",
    "                        ('s','st'):{'s','st','='},\n",
    "                        ('et','s'):{'o'},\n",
    "                        ('et','d'):{'o','s','d'},\n",
    "                        ('et','dt'):{'dt'},\n",
    "                        ('et','e'):{'e','et','='},\n",
    "                        ('d','d'):{'d'},\n",
    "                        ('d','dt'):{'<','>','m','mt','o','ot','e','et','s','st','d','dt','='},\n",
    "                        ('dt','d'):{'o','ot','e','et','d','dt','st','s','='}       }\n",
    "\n",
    "# -----------------------------------------------------------------------------------------------------------------------------"
   ]
  },
  {
   "cell_type": "code",
   "execution_count": 22,
   "metadata": {},
   "outputs": [],
   "source": [
    "                                                                                    # question 2 : transposées, symétriques\n",
    "# -----------------------------------------------------------------------------------------------------------------------------\n",
    "def transposeSet(S) :\n",
    "    R=set()\n",
    "    for i in S:\n",
    "        R.add(transpose[i])\n",
    "    return R\n",
    "def symetrieSet(S) :\n",
    "    R=set()\n",
    "    for i in S:\n",
    "        R.add(symetrie[i])\n",
    "    return R\n",
    "# -----------------------------------------------------------------------------------------------------------------------------"
   ]
  },
  {
   "cell_type": "code",
   "execution_count": 23,
   "metadata": {},
   "outputs": [
    {
     "name": "stdout",
     "output_type": "stream",
     "text": [
      "{'>', 'e', 'st', 'dt'}\n",
      "{'>', 'e', 'st', 'd'}\n",
      "{'e', 's'}\n"
     ]
    }
   ],
   "source": [
    "print(transposeSet({'s','d','<','et'}))  \n",
    "print(symetrieSet({'s','d','<','et'}))\n",
    "print(transposeSet(transposeSet('s')|transposeSet('e')))"
   ]
  },
  {
   "cell_type": "code",
   "execution_count": 24,
   "metadata": {},
   "outputs": [],
   "source": [
    "                                                                                   # question 3 : notion de composition\n",
    "# -----------------------------------------------------------------------------------------------------------------------------\n",
    "def compose(r1,r2):\n",
    "    t1=transpose[r1]\n",
    "    t2=transpose[r2]\n",
    "    s1=symetrie[r1]\n",
    "    s2=symetrie[r2]\n",
    "    st1=transpose[s1]\n",
    "    st2=transpose[s2]\n",
    "    CB = compositionBase.keys()\n",
    "    \n",
    "    if r1 == '=':\n",
    "        return {r2}\n",
    "    elif r2 == '=':\n",
    "        return {r1}\n",
    "    elif (r1,r2) in CB:\n",
    "        return compositionBase[(r1,r2)]   \n",
    "    elif (t2,t1) in CB:\n",
    "        return transposeSet(compositionBase[(t2,t1)])\n",
    "    elif (s1,s2) in CB:\n",
    "        return symetrieSet(compositionBase[(s1,s2)])\n",
    "    elif (st2,st1) in CB:\n",
    "        return symetrieSet(transposeSet(compositionBase[(st2,st1)]))\n",
    "# -----------------------------------------------------------------------------------------------------------------------------\n",
    "\n",
    "                                                                                   # question 4 : généralisation\n",
    "# -----------------------------------------------------------------------------------------------------------------------------\n",
    "def compositionSet(S1,S2):\n",
    "    R = set()\n",
    "    for r1 in S1:\n",
    "        for r2 in S2:\n",
    "            R |= compose(r1,r2)\n",
    "    return R\n",
    "# -----------------------------------------------------------------------------------------------------------------------------"
   ]
  },
  {
   "cell_type": "code",
   "execution_count": 25,
   "metadata": {},
   "outputs": [
    {
     "name": "stdout",
     "output_type": "stream",
     "text": [
      "{'d'}\n",
      "{'o', 's', 'd'}\n",
      "{'>'}\n",
      "{'>'}\n",
      "{'o', 'et', 'dt'}\n",
      "{'o', '<', 'm', '=', 'st', 'dt', 'et'}\n",
      "{'o', 's', 'e', '=', 'et', 'd'}\n",
      "{'o', '<', 'm', 'dt', 'et'}\n"
     ]
    }
   ],
   "source": [
    "print(compose('=','d'))\n",
    "print(compose('m','d'))\n",
    "print(compose('ot','>'))\n",
    "print(compose('>','e'))\n",
    "print(compose('ot','m'))\n",
    "print(compositionSet({'=','o'},{'dt','st','et','='}))\n",
    "print(compositionSet({'=','e','et'},{'=','e','d','s'}))\n",
    "# exemple vu en travaux dirigés\n",
    "print(compositionSet({'m','o'},{'dt','st','et','='}))"
   ]
  },
  {
   "cell_type": "markdown",
   "metadata": {},
   "source": [
    "### _/// Exercice 2 : génération et modification de graphes_"
   ]
  },
  {
   "cell_type": "code",
   "execution_count": 26,
   "metadata": {},
   "outputs": [],
   "source": [
    "class Graphe(object):\n",
    "    # définition d'un objet avec un ensemble de noeuds et de relations\n",
    "    def __init__(self,noeuds=set(),relations=dict()):\n",
    "        self.noeuds = noeuds\n",
    "        self.relations = relations\n",
    "                                                                                   # question 1 : récupération des relations\n",
    "# -----------------------------------------------------------------------------------------------------------------------------\n",
    "    def getRelations(self,i,j):\n",
    "        Rij = self.relations.get((i,j),{})\n",
    "        if len(Rij) == 0: # pas de relation entre i et j...\n",
    "            # ...a-t-on la transposée ?\n",
    "            Rij = transposeSet(self.relations.get((j,i),{}))\n",
    "            if len(Rij) != 0:\n",
    "                # soit il y a quelque chose de défini,\n",
    "                return Rij\n",
    "            elif i in self.noeuds and j in self.noeuds:\n",
    "                # soit tout est possible\n",
    "                return set(transpose.keys())\n",
    "        # par défaut, retourner directement la relation existante entre i et j\n",
    "        return Rij\n",
    "# -----------------------------------------------------------------------------------------------------------------------------\n",
    "    \n",
    "                                                                                   # question 2 : propagation d'une relation\n",
    "# -----------------------------------------------------------------------------------------------------------------------------\n",
    "    def modification(self,i,j,newR):\n",
    "        # laquelle d'(i,j) ou de (j,i) est stockée dans le graphe ? c'est celle qu'il faut mettre à jour.\n",
    "        if (i,j) in self.relations.keys(): \n",
    "            self.relations[(i,j)] = newR\n",
    "        else:\n",
    "            self.relations[(j,i)] = transposeSet(newR)\n",
    "        \n",
    "def propagation(g,i,j,Rij):\n",
    "    # Simplement une application de l'algorithme donné.\n",
    "    g.relations[(i,j)] = Rij # étude de la relation entre i et j\n",
    "    pile = [(i,j)]\n",
    "    while len(pile) > 0:\n",
    "        i,j = pile[0]\n",
    "        del(pile[0])\n",
    "        noeuds = g.noeuds.copy()\n",
    "        noeuds.remove(i)\n",
    "        noeuds.remove(j)\n",
    "        # peut-on faire passer un chemin par k, un noeud différent de i ou j ?\n",
    "        for k in noeuds: \n",
    "            Rik = g.getRelations(i,k)\n",
    "            Rij = g.getRelations(i,j)\n",
    "            Rjk = g.getRelations(j,k)\n",
    "            Rkj = g.getRelations(k,j)\n",
    "            Rki = g.getRelations(k,i)\n",
    "            newRik = Rik.intersection(compositionSet(Rij,Rjk))\n",
    "            newRkj = Rkj.intersection(compositionSet(Rki,Rij))\n",
    "            if len(newRik) == 0 or len(newRkj) == 0:\n",
    "                return  # contradiction temporelle\n",
    "            if newRik != Rik:\n",
    "                g.modification(i,k,newRik) # mettre à jour (i,k)\n",
    "                pile.append((i,k))\n",
    "            if newRkj != Rkj:\n",
    "                g.modification(k,j,newRkj) # mettre à jour (k,j)\n",
    "                pile.append((k,j))\n",
    "# -----------------------------------------------------------------------------------------------------------------------------\n",
    "\n",
    "                                                                                   # question 3 : ajout d'une relation\n",
    "# -----------------------------------------------------------------------------------------------------------------------------\n",
    "def ajouter(g,i,j,r):\n",
    "    # \n",
    "    g.noeuds |= {i,j}\n",
    "    Rij = g.relations.get((i,j),{})\n",
    "    if len(Rij) == 0: \n",
    "        g.relations[(i,j)] = {r}\n",
    "    else:\n",
    "        g.relations[(i,j)] |= {r}\n",
    "# -----------------------------------------------------------------------------------------------------------------------------"
   ]
  },
  {
   "cell_type": "code",
   "execution_count": 27,
   "metadata": {},
   "outputs": [
    {
     "name": "stdout",
     "output_type": "stream",
     "text": [
      "{'B', 'A', 'C'} {('A', 'B'): {'<'}, ('A', 'C'): {'>'}, ('B', 'C'): '='}\n",
      "{'B', 'A', 'C'} {('A', 'B'): {'<'}, ('A', 'C'): {'<'}, ('B', 'C'): '='}\n"
     ]
    }
   ],
   "source": [
    "                                                                                   # question 4 : des graphes à trois noeuds\n",
    "# -----------------------------------------------------------------------------------------------------------------------------\n",
    "g1 = Graphe({'A','B','C'},{('A','B'):{'<'},\n",
    "                           ('A','C'):{'>'}})\n",
    "propagation(g1,'B','C','=')\n",
    "print(g1.noeuds,g1.relations)\n",
    "\n",
    "g2 = Graphe({'A','B','C'},{('A','B'):{'<'},\n",
    "                           ('A','C'):{'<'}})\n",
    "propagation(g2,'B','C','=')\n",
    "print(g2.noeuds,g2.relations)\n",
    "# -----------------------------------------------------------------------------------------------------------------------------   "
   ]
  },
  {
   "cell_type": "code",
   "execution_count": 36,
   "metadata": {},
   "outputs": [
    {
     "name": "stdout",
     "output_type": "stream",
     "text": [
      "{'S', 'R', 'L'} {('L', 'S'): {'ot', 'mt'}, ('S', 'R'): {'<', '>', 'm', 'mt'}, ('R', 'L'): {'<', '>', 's', 'st', '=', 'mt', 'e', 'ot', 'd'}}\n"
     ]
    }
   ],
   "source": [
    "                                                                                   # question 5 : une histoire de lampe\n",
    "# -----------------------------------------------------------------------------------------------------------------------------\n",
    "g = Graphe({'S','L','R'},{('L','S'):{'ot','mt'}, # rapport entre l'instant où j'allume et la lampe allumée\n",
    "                          ('S','R'):{'<','m','mt','>'}}) # rapport entre l'instant où j'allume et la présence de John\n",
    "propagation(g,'L','S',{'ot','mt'})\n",
    "propagation(g,'S','R',{'<','m','mt','>'})\n",
    "# On observe automatiquement la création d'une nouvelle arête : elle relie John à la lampe allumée.\n",
    "print(g.noeuds,g.relations)\n",
    "#...avec un tas de possibilités.\n",
    "# -----------------------------------------------------------------------------------------------------------------------------"
   ]
  },
  {
   "cell_type": "code",
   "execution_count": 39,
   "metadata": {},
   "outputs": [
    {
     "name": "stdout",
     "output_type": "stream",
     "text": [
      "{'S', 'R', 'L'} {('L', 'S'): {'ot', 'mt'}, ('S', 'R'): {'<', 'm'}, ('L', 'R'): {'o', 's', 'm', '='}}\n"
     ]
    }
   ],
   "source": [
    "                                                                                   # question 6 : débarquement de John\n",
    "# -----------------------------------------------------------------------------------------------------------------------------\n",
    "# reprise des anciennes informations\n",
    "g = Graphe({'S','L','R'},{('L','S'):{'ot','mt'},\n",
    "                          ('S','R'):{'<','m','mt','>'}})\n",
    "propagation(g,'L','R',{'o','s','=','m','d'}) # nouveauté : John était dans la pièce quand la lumière a été éteinte.\n",
    "print(g.noeuds,g.relations)\n",
    "# un peu moins de possibilités.\n",
    "# -----------------------------------------------------------------------------------------------------------------------------"
   ]
  },
  {
   "cell_type": "code",
   "execution_count": 50,
   "metadata": {},
   "outputs": [
    {
     "name": "stdout",
     "output_type": "stream",
     "text": [
      "{'P', 'J', 'D', 'C'} {('J', 'D'): {'o', 's', '=', 'et', 'e', 'd'}, ('J', 'C'): {'et', 'e', '='}, ('D', 'P'): {'<', 'm'}, ('C', 'D'): {'s', 'e', '=', 'd'}, ('P', 'C'): {'>', 'mt'}, ('P', 'J'): {'>', 'mt'}}\n"
     ]
    }
   ],
   "source": [
    "                                                                                   # question 7 : affaire de petit déjeuner\n",
    "# -----------------------------------------------------------------------------------------------------------------------------\n",
    "# Alfred mange, boit son café, lit son journal et s'en va se promener, dans un ordre fixé :\n",
    "graphe = Graphe({'J','D','C','P'},{('J','D'):{'d','dt','o','ot','e','et','s','st','='}, # rapport journal - petit-déjeuner\n",
    "                                   ('J','C'):{'=','e','et'}, # rapport journal-café\n",
    "                                   ('D','P'):{'m','<'}}) # rapport promenade-petit-déjeuner\n",
    "propagation(graphe,'C','D',{'=','s','e','d'}) # le café est une étape du petit déjeuner\n",
    "print(graphe.noeuds,graphe.relations)\n",
    "# Les résultats concordent.\n",
    "# -----------------------------------------------------------------------------------------------------------------------------"
   ]
  },
  {
   "cell_type": "markdown",
   "metadata": {},
   "source": [
    "### _/// Conclusions_"
   ]
  },
  {
   "cell_type": "markdown",
   "metadata": {},
   "source": [
    "Ce huitième TME traite d'un sujet distinct des précédents : la représentation du temps, grâce aux intervalles d'Allen. C'est une façon de dénoter des relations (treize possibilités) entre des événements, qui se traduit sous la forme d'un graphe.   \n",
    "Le graphe montre toutes les relations, parmi les treize, que l'on peut envisager entre deux points nommés du temps (l'instant où j'écris ces lignes et celui où j'ai pris mon déjeuner) : on les lit alors sur l'arête qui les relie. J'ai pu écrire après manger (mauvaise idée), en mangeant (d'où les taches sur mon clavier) ou avant (sage décision), avec toutes les nuances qu'impliquent ces relations (les intervalles peuvent finir en même temps, l'un un tout petit peu avant l'autre, et caetera).  \n",
    "\n",
    "Connaissant le rapport entre une paire d'événements donnés, il est possible de déduire d'autres propriétés à propos de tous ceux qui leurs sont liés. En particulier, toute nouvelle information peut se traduire par une contrainte supplémentaire que l'on *propage* à travers le graphe. La propagation d'une information revient en fait à restreindre les possibilités associée à chaque arête et donc à s'assurer plus de certitudes.  \n",
    "\n",
    "Ce raisonnement nous aide à résoudre des problèmes divers, par exemple, concrètement, la génération d'un emploi du temps qui réponde à certaines demandes : tel cours doit précéder tel TD, qui ne peut pas être en conflit avec tel autre, pour des raisons d'accessibilité aux étudiants... Ici, on se penche sur des exemples-jouets, moins pragmatiques, celui d'une lampe ou d'un petit déjeuner. Avec une liste d'événements et des informations incomplètes, les intervalles d'Allen permettent alors de mener l'enquête sur ce qui s'est passé, et de raisonner sur les ordres possibles.  "
   ]
  }
 ],
 "metadata": {
  "kernelspec": {
   "display_name": "Python 3",
   "language": "python",
   "name": "python3"
  },
  "language_info": {
   "codemirror_mode": {
    "name": "ipython",
    "version": 3
   },
   "file_extension": ".py",
   "mimetype": "text/x-python",
   "name": "python",
   "nbconvert_exporter": "python",
   "pygments_lexer": "ipython3",
   "version": "3.7.4"
  }
 },
 "nbformat": 4,
 "nbformat_minor": 2
}
