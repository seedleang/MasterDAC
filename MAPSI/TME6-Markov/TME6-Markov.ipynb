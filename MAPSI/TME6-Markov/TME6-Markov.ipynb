{
 "cells": [
  {
   "cell_type": "markdown",
   "metadata": {},
   "source": [
    "# TME 6, classification de lettres manuscrites\n",
    "## Format des données\n",
    "Nous travaillerons sur des lettres manuscrites.\n",
    "Les données sont fournies au format pickle (le standard de sérialisation python, particulièrement convivial). Pour les charger : "
   ]
  },
  {
   "cell_type": "code",
   "execution_count": 60,
   "metadata": {},
   "outputs": [],
   "source": [
    "import numpy as np\n",
    "import pickle as pkl\n",
    "import matplotlib.pyplot as plt\n",
    "import math\n",
    "import random\n",
    "\n",
    "with open('ressources/lettres.pkl', 'rb') as f:\n",
    "    data = pkl.load(f, encoding='latin1') \n",
    "X = np.array(data.get('letters')) # récupération des données sur les lettres\n",
    "Y = np.array(data.get('labels')) # récupération des étiquettes associées "
   ]
  },
  {
   "cell_type": "markdown",
   "metadata": {},
   "source": [
    "Les données sont dans un format original: une lettre est en fait une série d'angles (exprimés en degrés). Un exemple: "
   ]
  },
  {
   "cell_type": "code",
   "execution_count": 61,
   "metadata": {},
   "outputs": [
    {
     "data": {
      "text/plain": [
       "array([ 36.214493, 347.719116, 322.088898, 312.230957, 314.851013,\n",
       "       315.487213, 313.556702, 326.534973, 141.288971, 167.606689,\n",
       "       199.321594, 217.911087, 226.443298, 235.002472, 252.354492,\n",
       "       270.045654, 291.665161, 350.934723,  17.892815,  20.281025,\n",
       "        28.207161,  43.883423,  53.459026])"
      ]
     },
     "execution_count": 61,
     "metadata": {},
     "output_type": "execute_result"
    }
   ],
   "source": [
    "X[0]"
   ]
  },
  {
   "cell_type": "markdown",
   "metadata": {},
   "source": [
    "Lors de l'acquisition, un stylo intelligent a pris des mesures régulièrement dans le temps: chaque période correspond à un segment de droite et le stylo a calculé l'angle entre deux segments consécutifs... C'est l'information qui vous est fournie.\n",
    "\n",
    "Pour afficher une lettre, il faut reconstruire la trajectoire enregistrée... C'est ce que fait la méthode ci-dessous: "
   ]
  },
  {
   "cell_type": "code",
   "execution_count": 62,
   "metadata": {},
   "outputs": [],
   "source": [
    "# affichage d'une lettre\n",
    "def tracerLettre(let,title=None):\n",
    "    a = -let*np.pi/180; # conversion en rad\n",
    "    coord = np.array([[0, 0]]); # point initial\n",
    "    for i in range(len(a)):\n",
    "        x = np.array([[1, 0]]);\n",
    "        rot = np.array([[np.cos(a[i]), -np.sin(a[i])],[ np.sin(a[i]),np.cos(a[i])]])\n",
    "        xr = x.dot(rot) # application de la rotation\n",
    "        coord = np.vstack((coord,xr+coord[-1,:]))\n",
    "    plt.figure()\n",
    "    if title:\n",
    "        plt.title(title)\n",
    "    plt.plot(coord[:,0],coord[:,1])\n",
    "    plt.savefig(\"exlettre.png\")\n",
    "    return"
   ]
  },
  {
   "cell_type": "code",
   "execution_count": 63,
   "metadata": {},
   "outputs": [
    {
     "data": {
      "image/png": "[encoded data removed]",
      "text/plain": [
       "<Figure size 432x288 with 1 Axes>"
      ]
     },
     "metadata": {
      "needs_background": "light"
     },
     "output_type": "display_data"
    }
   ],
   "source": [
    "tracerLettre(X[0])"
   ]
  },
  {
   "cell_type": "markdown",
   "metadata": {},
   "source": [
    "##  Apprentissage d'un modèle CM (max de vraisemblance)\n",
    "### 1. Discrétisation\n",
    "\n",
    "**1 état = 1 angle**\n",
    "\n",
    "Il est nécessaire de regrouper les angles en un nombre fini d'états (par exemple 20)\n",
    "- définir un `intervalle = 360 / n_etats`\n",
    "- discrétiser tous les signaux à l'aide de la formule `np.floor(x / intervalle)`\n",
    "\n",
    "Donner le code de la méthode `discretise(x, d)` qui prend la base des signaux et retourne une base de signaux discrétisés."
   ]
  },
  {
   "cell_type": "code",
   "execution_count": 64,
   "metadata": {},
   "outputs": [],
   "source": [
    "def discretise(x,d):\n",
    "    discrete = x.copy()\n",
    "    states = 360/d\n",
    "    for i in range (len(x)):\n",
    "        discrete[i] = np.floor(x[i]/states)\n",
    "    return discrete"
   ]
  },
  {
   "cell_type": "code",
   "execution_count": 65,
   "metadata": {},
   "outputs": [
    {
     "data": {
      "text/plain": [
       "array([0., 2., 2., 2., 2., 2., 2., 2., 1., 1., 1., 1., 1., 1., 2., 2., 2.,\n",
       "       2., 0., 0., 0., 0., 0.])"
      ]
     },
     "execution_count": 65,
     "metadata": {},
     "output_type": "execute_result"
    }
   ],
   "source": [
    "# application à la première lettre\n",
    "discretise(X[0],3)\n",
    "# affichage de référence : code validé"
   ]
  },
  {
   "cell_type": "markdown",
   "metadata": {},
   "source": [
    "**VALIDATION :** code du premier signal avec une discrétisation sur 3 états:\n",
    "```python\n",
    "array([ 0.,  2.,  2.,  2.,  2.,  2.,  2.,  2.,  1.,  1.,  1.,  1., 1., 1., 2., 2., 2.,\n",
    "       2.,  0.,  0.,  0.,  0.,  0.])\n",
    "```"
   ]
  },
  {
   "cell_type": "markdown",
   "metadata": {},
   "source": [
    "### 2. Regrouper les indices des signaux par classe (pour faciliter l'apprentissage)"
   ]
  },
  {
   "cell_type": "code",
   "execution_count": 66,
   "metadata": {},
   "outputs": [],
   "source": [
    "def groupByLabel(y):\n",
    "    index = []\n",
    "    for i in np.unique(y): # pour toutes les classes\n",
    "        ind, = np.where(y == i)\n",
    "        index.append(ind)\n",
    "    return index"
   ]
  },
  {
   "cell_type": "markdown",
   "metadata": {},
   "source": [
    "Cette méthode produit simplement une structure type:\n",
    "```python\n",
    "[array([ 0,  1,  2,  3,  4,  5,  6,  7,  8,  9, 10]),\n",
    " array([11, 12, 13, 14, 15, 16, 17, 18, 19, 20, 21]),\n",
    " array([22, 23, 24, 25, 26, 27, 28, 29, 30, 31, 32]),\n",
    " array([33, 34, 35, 36, 37, 38, 39, 40, 41, 42, 43]),\n",
    " array([44, 45, 46, 47, 48, 49, 50, 51, 52, 53, 54]),\n",
    " array([55, 56, 57, 58, 59, 60, 61, 62, 63, 64, 65]),\n",
    " ...\n",
    "```\n",
    "Chaque ligne regroupe les indices de signaux correspondant à une classe. \n",
    "\n",
    "Si j'ai bien compris, il devient possible de désigner le premier élément de la classe 1, quel que soit son indice originel, par la notation ```index[0][0]```."
   ]
  },
  {
   "cell_type": "markdown",
   "metadata": {},
   "source": [
    "### 3. Apprendre les modèles CM\n",
    "\n",
    "Soit {$X_C$} la base de signaux discrétisés correspondant à une classe {$C$} et {$d$} le nombre d'états. Donner le code de la fonction `learnMarkovModel(Xc, d)` qui retourne un tuple contenant Pi et A.\n",
    "\n",
    "Rappel:\n",
    "- Initialisation de \n",
    "```python\n",
    " A = np.zeros((d, d))\n",
    " Pi = np.zeros(d)```\n",
    "- Parcours de tous les signaux et incréments de A et Pi\n",
    "- Normalisation (un peu réfléchie pour éviter les divisions par 0)\n",
    "```python\n",
    "A = A / np.maximum(A.sum(1).reshape(d, 1), 1) # normalisation\n",
    "Pi = Pi / Pi.sum()```\n",
    "\n",
    "**Note** : la solution proposée pour gérer le cas des lignes entièrement à 0 est naïve et n'est pas totalement satisfaisante. Comprendre pourquoi. On proposera une solution améliorée plus loin dans le TME. "
   ]
  },
  {
   "cell_type": "code",
   "execution_count": 67,
   "metadata": {},
   "outputs": [],
   "source": [
    "def learnMarkovModel(Xc, d):\n",
    "    A = np.zeros((d,d))\n",
    "    Pi = np.zeros(d)\n",
    "    # ce qui suit est un algorithme de comptage. \n",
    "    # dans Pi, recensement des états initiaux.\n",
    "    # dans A, recensement des transitions de ei vers ej pour tout i, j de [0,d[.\n",
    "    for i in range(len(Xc)):\n",
    "        lettre=Xc[i] # Xc[i] est une lettre de la base de données.\n",
    "        # son tracé commence par un état donné.\n",
    "        Pi[int(lettre[0])]+=1 # je dois donc augmenter l'effectif des lettres qui commencent par cet état.\n",
    "        for j in range(len(lettre)-1): # puis, je parcours le reste : à chaque passage d'un état à l'autre, je me demande :\n",
    "            hodie = int(lettre[j]) # dans quel état suis-je tout de suite, aujourd'hui ?\n",
    "            cras = int(lettre[j+1]) # et dans quel état serai-je par la suite, demain ?\n",
    "            A[hodie][cras]+=1 # incrémenter l'effectif des passages dudit état à l'autre dans la matrice de transition.\n",
    "    # normalisation - l'objectif étant bien sûr d'obtenir des probabilités.\n",
    "    A/=np.maximum(A.sum(1).reshape(d,1),1) \n",
    "    Pi/=Pi.sum()\n",
    "    # et voilà\n",
    "    return Pi, A"
   ]
  },
  {
   "cell_type": "code",
   "execution_count": 68,
   "metadata": {},
   "outputs": [
    {
     "data": {
      "text/plain": [
       "(array([0.36363636, 0.        , 0.63636364]),\n",
       " array([[0.84444444, 0.06666667, 0.08888889],\n",
       "        [0.        , 0.83333333, 0.16666667],\n",
       "        [0.11382114, 0.06504065, 0.82113821]]))"
      ]
     },
     "execution_count": 68,
     "metadata": {},
     "output_type": "execute_result"
    }
   ],
   "source": [
    "# discrétisation à trois états\n",
    "Xd = discretise(X,3)\n",
    "# regroupement par classe : il s'agit de pouvoir lancer l'apprentissage sur chacune séparément,\n",
    "index = groupByLabel(Y)\n",
    "# ici la première : dans le cas d'un alphabet, on va s'intéresser aux A seulement\n",
    "learnMarkovModel(Xd[index[0]],3)\n",
    "\n",
    "# le premier élément de l'affichage est la matrice Pi - probabilité de commencer par l'état 0, 1, ou 2.\n",
    "# le second élément de l'affichage est la matrice de transition A.\n",
    "# affichage de référence : code validé"
   ]
  },
  {
   "cell_type": "markdown",
   "metadata": {},
   "source": [
    "**Validation :** premier modèle avec une discrétisation sur 3 états :\n",
    "```python\n",
    "(array([ 0.36363636,  0.        ,  0.63636364]),\n",
    " array([[ 0.84444444,  0.06666667,  0.08888889],\n",
    "       [ 0.        ,  0.83333333,  0.16666667],\n",
    "       [ 0.11382114,  0.06504065,  0.82113821]]))\n",
    "```"
   ]
  },
  {
   "cell_type": "markdown",
   "metadata": {},
   "source": [
    "### 4. Stocker les modèles dans une liste\n",
    "\n",
    "Pour un usage ultérieur plus facile, on utilise le code suivant :"
   ]
  },
  {
   "cell_type": "code",
   "execution_count": 69,
   "metadata": {},
   "outputs": [],
   "source": [
    "d = 3                    # paramètre de discrétisation\n",
    "Xd = discretise(X,d)     # application de la discrétisation\n",
    "index = groupByLabel(Y)  # groupement des signaux par classe\n",
    "models = []\n",
    "for cl in range(len(np.unique(Y))): # parcours de toutes les classes et optimisation des modèles\n",
    "    models.append(learnMarkovModel(Xd[index[cl]], d))"
   ]
  },
  {
   "cell_type": "markdown",
   "metadata": {},
   "source": [
    "##  Test (affectation dans les classes sur critère MV)\n",
    "### 1. (log)Probabilité d'une séquence dans un modèle\n",
    "\n",
    "Donner le code de la méthode `probaSequence(s,Pi,A)` qui retourne la log-probabilité d'une séquence `s` dans le modèle {$\\lambda=\\{Pi,A\\}$} "
   ]
  },
  {
   "cell_type": "code",
   "execution_count": 70,
   "metadata": {},
   "outputs": [],
   "source": [
    "def probaSequence(s, Pi, A):\n",
    "    # si l'on suppose les états successifs indépendants, une vraisemblance est une multiplication de probabilités.\n",
    "    L=Pi[int(s[0])] # initialisation : probabilité \"a priori\" de commencer par l'état lu sur les starting-blocks\n",
    "    for i in range(1,len(s)): # série de multiplications, grâce à...\n",
    "        L*=A[int(s[i-1])][int(s[i])] # ...la récupération, dans la matrice de transition, des probabilités de passage de chaque état à celui qui suit\n",
    "    return np.log(L)"
   ]
  },
  {
   "cell_type": "code",
   "execution_count": 71,
   "metadata": {},
   "outputs": [
    {
     "name": "stderr",
     "output_type": "stream",
     "text": [
      "C:\\ProgramData\\Anaconda3\\lib\\site-packages\\ipykernel_launcher.py:6: RuntimeWarning: divide by zero encountered in log\n",
      "  \n"
     ]
    },
    {
     "data": {
      "text/plain": [
       "array([-13.491086  ,         -inf,         -inf,         -inf,\n",
       "               -inf,         -inf,         -inf,         -inf,\n",
       "               -inf,         -inf,         -inf,         -inf,\n",
       "               -inf,         -inf,         -inf,         -inf,\n",
       "               -inf,         -inf,         -inf,         -inf,\n",
       "               -inf,         -inf,         -inf,         -inf,\n",
       "               -inf, -12.48285678])"
      ]
     },
     "execution_count": 71,
     "metadata": {},
     "output_type": "execute_result"
    }
   ],
   "source": [
    "# calcul des probabilités, pour le premier signal (discrétisé), d'appartenir à chacune des classes\n",
    "# de quelle lettre s'agit-il ? réponse grâce au maximum de vraisemblance\n",
    "vraisemblances = np.zeros(len(models))\n",
    "for modele in range (len(models)):\n",
    "    vraisemblances[modele]=probaSequence(Xd[0],models[modele][0],models[modele][1])\n",
    "vraisemblances\n",
    "# affichage de référence : code validé"
   ]
  },
  {
   "cell_type": "markdown",
   "metadata": {},
   "source": [
    "**VALIDATION :** probabilité du premier signal dans les 26 modèles avec une discrétisation sur 3 états :\n",
    "```python\n",
    "array([-13.491086  ,         -inf,         -inf,         -inf,\n",
    "               -inf,         -inf,         -inf,         -inf,\n",
    "               -inf,         -inf,         -inf,         -inf,\n",
    "               -inf,         -inf,         -inf,         -inf,\n",
    "               -inf,         -inf,         -inf,         -inf,\n",
    "               -inf,         -inf,         -inf,         -inf,\n",
    "               -inf, -12.48285678])\n",
    "```\n",
    "\n",
    "- Ce signal est-il bien classé ?\n",
    "- D'où viennent tous les `-inf` ? "
   ]
  },
  {
   "cell_type": "markdown",
   "metadata": {},
   "source": [
    "Ce signal est censé être un A. Etiqueté comme tel, il est malheureusement reconnu comme un Z - la vraisemblance d'appartenance à la classe Z (26ème modèle) étant supérieure, et ce bien que celle de la classe A suive de très près.\n",
    "\n",
    "Ci-dessous pour rire, le tracé du profil de notre cas, de deux A plus typiques, et d'un Z. L'erreur s'explique.\n",
    "\n",
    "NB : les -inf sont accompagnés d'un avertissement à l'exécution et sont liés à la valeur mathématiquement indéfinie de log(0). Pour traduire, les classes où log(L) vaut -inf sont celles qui donnent une vraisemblance tout juste nulle."
   ]
  },
  {
   "cell_type": "code",
   "execution_count": 72,
   "metadata": {},
   "outputs": [
    {
     "data": {
      "image/png": "[encoded data removed]",
      "text/plain": [
       "<Figure size 432x288 with 1 Axes>"
      ]
     },
     "metadata": {
      "needs_background": "light"
     },
     "output_type": "display_data"
    },
    {
     "data": {
      "image/png": "[encoded data removed]",
      "text/plain": [
       "<Figure size 432x288 with 1 Axes>"
      ]
     },
     "metadata": {
      "needs_background": "light"
     },
     "output_type": "display_data"
    },
    {
     "data": {
      "image/png": "[encoded data removed]",
      "text/plain": [
       "<Figure size 432x288 with 1 Axes>"
      ]
     },
     "metadata": {
      "needs_background": "light"
     },
     "output_type": "display_data"
    },
    {
     "data": {
      "image/png": "[encoded data removed]",
      "text/plain": [
       "<Figure size 432x288 with 1 Axes>"
      ]
     },
     "metadata": {
      "needs_background": "light"
     },
     "output_type": "display_data"
    }
   ],
   "source": [
    "tracerLettre(Xd[0],\"Cas étudié. Etiquette associée : A\")\n",
    "tracerLettre(Xd[2],\"Référence. Etiquette associée : A\")\n",
    "tracerLettre(Xd[5],\"Référence. Etiquette associée : A\")\n",
    "tracerLettre(Xd[260],\"Justification de l'erreur. Etiquette associée : Z\")"
   ]
  },
  {
   "cell_type": "markdown",
   "metadata": {},
   "source": [
    "Dans leur version discrétisée, les autres A ne présentent pas cette courte plateforme au départ du signal. Les Z, si."
   ]
  },
  {
   "cell_type": "markdown",
   "metadata": {},
   "source": [
    "### 2. Application de la méthode précédente pour tous les signaux et tous les modèles de lettres\n",
    "\n",
    "L'application se fait en une ligne de code si vous avez respecté les spécifications précédentes : "
   ]
  },
  {
   "cell_type": "code",
   "execution_count": 73,
   "metadata": {},
   "outputs": [
    {
     "name": "stderr",
     "output_type": "stream",
     "text": [
      "C:\\ProgramData\\Anaconda3\\lib\\site-packages\\ipykernel_launcher.py:6: RuntimeWarning: divide by zero encountered in log\n",
      "  \n"
     ]
    }
   ],
   "source": [
    "proba = np.array([[probaSequence(Xd[i], models[cl][0], models[cl][1]) for i in range(len(Xd))]\n",
    "                  for cl in range(len(np.unique(Y)))])"
   ]
  },
  {
   "cell_type": "markdown",
   "metadata": {},
   "source": [
    "### 3. Evaluation des performances\n",
    "\n",
    "Pour l'évaluation, nous proposons l'approche suivante: "
   ]
  },
  {
   "cell_type": "code",
   "execution_count": 74,
   "metadata": {},
   "outputs": [
    {
     "name": "stdout",
     "output_type": "stream",
     "text": [
      "Pourcentage de classifications correctes sous d = 3 : 0.6902985074626866\n"
     ]
    }
   ],
   "source": [
    "# calcul d'une version numérique des Y :\n",
    "Ynum = np.zeros(Y.shape)\n",
    "for num, char in enumerate(np.unique(Y)):\n",
    "    Ynum[Y == char] = num\n",
    "# calcul de la classe la plus probable :\n",
    "predictions = proba.argmax(0) # max colonne par colonne\n",
    "# calcul d'un pourcentage de bonne classification :\n",
    "accuracy = np.where(predictions != Ynum, 0., 1.).mean()\n",
    "\n",
    "print(\"Pourcentage de classifications correctes sous d =\", d, \":\", accuracy)\n",
    "# affichage de référence : code validé\n",
    "# il suffit de changer d quelques champs plus haut pour rendre compte de l'autre version"
   ]
  },
  {
   "cell_type": "markdown",
   "metadata": {},
   "source": [
    "**INDICE DE PERFORMANCE :** 91% de bonne classification avec 20 états, 69% avec 3 états"
   ]
  },
  {
   "cell_type": "markdown",
   "metadata": {},
   "source": [
    "## Biais d'évaluation, notion de sur-apprentissage\n",
    "\n",
    "Dans le protocole précédent, nous avons triché:\n",
    "- les données servent d'abord à apprendre les modèles...\n",
    "- puis nous nous servons des mêmes données pour tester les modèles ! Les performances sont forcément bonnes ! \n",
    "\n",
    "Afin de pallier le problème, nous allons diviser en deux la base de données: une partie servira à l'apprentissage des modèles, l'autre à leur évaluation. Pour effectuer la division, nous fournissons le code suivant: "
   ]
  },
  {
   "cell_type": "code",
   "execution_count": 31,
   "metadata": {},
   "outputs": [],
   "source": [
    "# separation app/test, pc=ratio de points en apprentissage\n",
    "def separeTrainTest(y,pc):\n",
    "    indTrain = []\n",
    "    indTest = []\n",
    "    for i in np.unique(y): # pour toutes les classes\n",
    "        ind, = np.where(y == i)\n",
    "        n = len(ind)\n",
    "        indTrain.append(ind[np.random.permutation(n)][:int(np.floor(pc * n))])\n",
    "        indTest.append(np.setdiff1d(ind, indTrain[-1]))\n",
    "    return indTrain, indTest\n",
    "\n",
    "# exemple d'utilisation\n",
    "itrain, itest = separeTrainTest(Y, 0.8)"
   ]
  },
  {
   "cell_type": "markdown",
   "metadata": {},
   "source": [
    "dans `itrain`, nous obtenons les indices des signaux qui doivent servir en apprentissage pour chaque classe :"
   ]
  },
  {
   "cell_type": "code",
   "execution_count": 75,
   "metadata": {
    "collapsed": true
   },
   "outputs": [
    {
     "data": {
      "text/plain": [
       "[array([3, 5, 2, 1, 6, 0, 9, 7], dtype=int64),\n",
       " array([12, 16, 20, 15, 11, 21, 19, 14], dtype=int64),\n",
       " array([26, 23, 24, 31, 29, 28, 25, 22], dtype=int64),\n",
       " array([39, 42, 35, 41, 40, 37, 33, 36], dtype=int64),\n",
       " array([44, 47, 48, 50, 53, 51, 54, 45], dtype=int64),\n",
       " array([56, 57, 59, 64, 60, 63, 55, 61], dtype=int64),\n",
       " array([71, 66, 73, 70, 67, 68, 76, 75], dtype=int64),\n",
       " array([83, 78, 84, 85, 86, 79, 87, 80], dtype=int64),\n",
       " array([92, 90, 93, 89, 91, 88, 97, 96], dtype=int64),\n",
       " array([106, 101, 100,  98, 107, 102, 104, 105], dtype=int64),\n",
       " array([113, 115, 110, 116, 111, 117, 114, 108], dtype=int64),\n",
       " array([123, 122, 121, 120, 118, 127, 126, 125], dtype=int64),\n",
       " array([129, 133, 128, 132, 131, 137, 136, 134], dtype=int64),\n",
       " array([146, 147, 143, 141, 142, 138, 145, 144], dtype=int64),\n",
       " array([149, 152, 148, 151, 156, 155, 154, 153], dtype=int64),\n",
       " array([158, 159, 163, 161, 164, 160, 166, 165], dtype=int64),\n",
       " array([174, 170, 172, 177, 173, 175, 176, 171], dtype=int64),\n",
       " array([187, 179, 183, 186, 184, 180, 181, 178], dtype=int64),\n",
       " array([194, 197, 196, 192, 193, 188, 189, 191], dtype=int64),\n",
       " array([207, 199, 202, 204, 203, 205, 201, 200], dtype=int64),\n",
       " array([208, 213, 214, 216, 217, 211, 215, 212], dtype=int64),\n",
       " array([219, 218, 226, 224, 225, 223, 220, 221], dtype=int64),\n",
       " array([233, 234, 237, 230, 232, 229, 236, 235], dtype=int64),\n",
       " array([245, 242, 244, 240, 243, 246, 247, 239], dtype=int64),\n",
       " array([255, 252, 250, 251, 249, 254, 257, 253], dtype=int64),\n",
       " array([261, 267, 259, 266, 265, 263, 258, 260], dtype=int64)]"
      ]
     },
     "execution_count": 75,
     "metadata": {},
     "output_type": "execute_result"
    }
   ],
   "source": [
    "itrain"
   ]
  },
  {
   "cell_type": "markdown",
   "metadata": {},
   "source": [
    "**Note :** pour faciliter l'évaluation des modèles, vous aurez besoin de re-fusionner tous les indices d'apprentissage et de test. Cela se fait avec les lignes de code suivantes : "
   ]
  },
  {
   "cell_type": "code",
   "execution_count": 76,
   "metadata": {},
   "outputs": [],
   "source": [
    "ia = []\n",
    "for i in itrain:\n",
    "    ia += i.tolist()    \n",
    "it = []\n",
    "for i in itest:\n",
    "    it += i.tolist()"
   ]
  },
  {
   "cell_type": "markdown",
   "metadata": {},
   "source": [
    "**Note 2 :** Du fait de la permutation aléatoire, les résultats vont bouger (un peu) à chaque execution du programme. "
   ]
  },
  {
   "cell_type": "markdown",
   "metadata": {},
   "source": [
    "## Questions importantes\n",
    "- Ré-utiliser les fonctions précédemment définies pour apprendre des modèles et les évaluer sans biais.\n",
    "- Calculer et analyser les résultats obtenus en apprentissage et en test\n",
    "- Etudier l'évolution des performances en fonction de la discrétisation"
   ]
  },
  {
   "cell_type": "markdown",
   "metadata": {},
   "source": [
    "L'analyse concerne un certain nombre d'exécutions du classifieur.  \n",
    "Pour répéter la mission en fonction de la discrétisation d, on utiliserait volontiers une fonction.\n",
    "\n",
    "Or, d'un point de vue rigide, la séparation train/test des données doit être faite une seule fois pour toutes - et non pas répétée à chaque itération - si l'on veut que la comparaison entre les d soit vraiment valide. Deux choix :  \n",
    "1. On s'assume rigide.   \n",
    "En exécutant le code fourni plus haut, on a *déjà* séparé deux ensembles d'indices. On s'y tient.  \n",
    "Côté train, la transformation a renvoyé un array de vingt-six arrays, un par classe, contenant 80% des indices de chacune.\n",
    "Côté test, la transformation a renvoyé un array de vingt-six arrays, un par classe, contenant 20% des indices de chacune.  \n",
    "On a reconditionné ces arrays sous la forme de deux listes. La suite des opérations va pouvoir être factorisée à condition de passer ces listes en paramètres.  \n",
    "\n",
    "\n",
    "2. On décide d'inclure la séparation dans l'évaluation des performances.  \n",
    "Au vu de la note ci-dessus, c'est apparemment toléré, et multiplier les essais permet d'obtenir un résultat plus représentatif  \n",
    "(sinon, qui sait si la seule séparation retenue au départ n'est pas un cas de niche ?).  \n",
    "Il suffit alors de repasser le morceau de code fourni à l'intérieur de la fonction.\n",
    "\n",
    "Nous sommes, au premier abord, partisan.e du choix 1."
   ]
  },
  {
   "cell_type": "code",
   "execution_count": 77,
   "metadata": {},
   "outputs": [],
   "source": [
    "def applyPrediction(data,labels,train,test,d):  \n",
    "    # les indices des groupes d'apprentissage et de test sont préétablis dans les paramètres train et test.\n",
    "    # reste seulement à changer le paramètre de discrétisation d à l'appel de la fonction.\n",
    "    Xd = discretise(data,d)\n",
    "    \n",
    "    # côté train, création du vecteur de données discrètes\n",
    "    Xtrain = Xd[train]\n",
    "    # création du vecteur d'étiquettes associé\n",
    "    Ytrain = Y[train]\n",
    "    # clarification des classes\n",
    "    index = groupByLabel(Ytrain)\n",
    "    # définition des modèles >>> se fait sur le train set\n",
    "    models = []\n",
    "    for cl in range(len(np.unique(Ytrain))):\n",
    "        models.append(learnMarkovModel(Xtrain[index[cl]],d))\n",
    "    \n",
    "    # côté test, création du vecteur de données discrètes\n",
    "    Xtest = Xd[test]\n",
    "    # création du vecteur d'étiquettes associé\n",
    "    Ytest = Y[test]\n",
    "    # prédiction par maximum de vraisemblance >>> se fait sur le test set\n",
    "    vraisemblances = np.zeros((len(Xtest),len(models)))\n",
    "    for signal in range (len(Xtest)): \n",
    "        for modele in range (len(models)):\n",
    "            vraisemblances[signal,modele]=probaSequence(Xtest[signal],models[modele][0],models[modele][1])\n",
    "\n",
    "    # préparation à l'évaluation des performances\n",
    "    Ynum = np.zeros(Ytest.shape)\n",
    "    for num, char in enumerate(np.unique(Ytest)):\n",
    "        Ynum[Ytest == char] = num\n",
    "    predictions = vraisemblances.argmax(1) # repérage des maxima pour chaque ligne \n",
    "    return predictions, Ynum\n",
    "    # ^ ce choix de vecteur de retour, au lieu d'avoir directement\n",
    "    #      return np.where(pred != Ynum, 0.,1.).mean()\n",
    "    # sera utile pour la partie optionnelle\n",
    "    \n",
    "# on s'intéresse maintenant à l'évolution des performances en fonction de d. \n",
    "# script de recherche du maximum\n",
    "def findTopAccuracy(data,labels,train,test,verbose=False):\n",
    "    # déterminer le paramètre verbose à True lors de l'appel de fonction permet de donner le détail des performances\n",
    "    # on évitera pour un grand nombre d'itérations\n",
    "    max = 0\n",
    "    indmax = 2\n",
    "    for d in range(2,32,2):\n",
    "        predictions, Ynum = applyPrediction(data,labels,train,test,d)\n",
    "        accuracy = np.where(predictions != Ynum, 0.,1.).mean()\n",
    "        if verbose:\n",
    "            print(\"La performance sous le paramètre de discrétisation\", d, \"plafonne à\", accuracy*100, \"% de prédictions justes.\")\n",
    "        if accuracy > max :\n",
    "            max = accuracy\n",
    "            indmax = d\n",
    "    return indmax, max"
   ]
  },
  {
   "cell_type": "code",
   "execution_count": 78,
   "metadata": {},
   "outputs": [
    {
     "name": "stderr",
     "output_type": "stream",
     "text": [
      "C:\\ProgramData\\Anaconda3\\lib\\site-packages\\ipykernel_launcher.py:6: RuntimeWarning: divide by zero encountered in log\n",
      "  \n"
     ]
    },
    {
     "name": "stdout",
     "output_type": "stream",
     "text": [
      "La performance sous le paramètre de discrétisation 2 plafonne à 40.0 % de prédictions justes.\n",
      "La performance sous le paramètre de discrétisation 4 plafonne à 66.66666666666666 % de prédictions justes.\n",
      "La performance sous le paramètre de discrétisation 6 plafonne à 65.0 % de prédictions justes.\n",
      "La performance sous le paramètre de discrétisation 8 plafonne à 61.66666666666667 % de prédictions justes.\n",
      "La performance sous le paramètre de discrétisation 10 plafonne à 55.00000000000001 % de prédictions justes.\n",
      "La performance sous le paramètre de discrétisation 12 plafonne à 41.66666666666667 % de prédictions justes.\n",
      "La performance sous le paramètre de discrétisation 14 plafonne à 33.33333333333333 % de prédictions justes.\n",
      "La performance sous le paramètre de discrétisation 16 plafonne à 26.666666666666668 % de prédictions justes.\n",
      "La performance sous le paramètre de discrétisation 18 plafonne à 25.0 % de prédictions justes.\n",
      "La performance sous le paramètre de discrétisation 20 plafonne à 20.0 % de prédictions justes.\n",
      "La performance sous le paramètre de discrétisation 22 plafonne à 18.333333333333332 % de prédictions justes.\n",
      "La performance sous le paramètre de discrétisation 24 plafonne à 20.0 % de prédictions justes.\n",
      "La performance sous le paramètre de discrétisation 26 plafonne à 15.0 % de prédictions justes.\n",
      "La performance sous le paramètre de discrétisation 28 plafonne à 18.333333333333332 % de prédictions justes.\n",
      "La performance sous le paramètre de discrétisation 30 plafonne à 16.666666666666664 % de prédictions justes.\n",
      "\n",
      "La classification réussit au mieux pour d* = 4 .\n",
      "Un tel paramètre permet de reconnaître correctement 66.66666666666666 % des lettres.\n"
     ]
    }
   ],
   "source": [
    "topchoix, reussites = findTopAccuracy(X,Y,ia,it,verbose=True)\n",
    "print(\"\\nLa classification réussit au mieux pour d* =\", topchoix, \".\")\n",
    "print(\"Un tel paramètre permet de reconnaître correctement\", reussites*100, \"% des lettres.\")"
   ]
  },
  {
   "cell_type": "markdown",
   "metadata": {},
   "source": [
    "Le classifieur a l'air incapable de gérer une grande quantité d'états possibles (d > 20), pour les raisons explicitées plus bas par vos soins. La taille de l'ensemble d'entraînement ne suffit plus : l'ensemble de test est inconnu, et il n'y a pas assez de références pour le comprendre, ce qui donne une bien piètre performance (à peine 20% de reconnaissance).  \n",
    "Le maximum de prédictions justes sera d'environ 60% pour des petites valeurs de d."
   ]
  },
  {
   "cell_type": "markdown",
   "metadata": {},
   "source": [
    "### Notes additionnelles\n",
    "On s'emploie à pallier les conséquences du choix fait plus haut, par un calcul de la moyenne de d* sur divers ensembles train/test : en général sur cette base, combien d'états faut-il retenir pour obtenir les meilleurs résultats ?"
   ]
  },
  {
   "cell_type": "code",
   "execution_count": 79,
   "metadata": {},
   "outputs": [],
   "source": [
    "def findAverageTopAccuracy(data,labels,experiments):\n",
    "    # experiments représente le nombre de répétitions de séparation/classification pour avoir une moyenne.\n",
    "    # les ensembles train et test ne sont plus des paramètres, ils seront redéfinis pour chaque itération.\n",
    "    indmax = 0\n",
    "    max = 0\n",
    "    for i in range (experiments):\n",
    "        itrain, itest = separeTrainTest(labels, 0.8)\n",
    "        ia = []\n",
    "        for i in itrain:\n",
    "            ia += i.tolist()    \n",
    "        it = []\n",
    "        for i in itest:\n",
    "            it += i.tolist()\n",
    "        b, r = findTopAccuracy(data,labels,ia,it)\n",
    "        indmax += b\n",
    "        max += r\n",
    "    indmax /= experiments\n",
    "    max /= experiments\n",
    "    return indmax, max "
   ]
  },
  {
   "cell_type": "code",
   "execution_count": 81,
   "metadata": {},
   "outputs": [
    {
     "name": "stderr",
     "output_type": "stream",
     "text": [
      "C:\\ProgramData\\Anaconda3\\lib\\site-packages\\ipykernel_launcher.py:6: RuntimeWarning: divide by zero encountered in log\n",
      "  \n"
     ]
    },
    {
     "name": "stdout",
     "output_type": "stream",
     "text": [
      "En moyenne, la classification réussit au mieux pour d* = 5.4 .\n",
      "Le pourcentage de réussite est alors de 61.333333333333314 %.\n"
     ]
    }
   ],
   "source": [
    "topchoix, reussites = findAverageTopAccuracy(X,Y,20)\n",
    "print(\"En moyenne, la classification réussit au mieux pour d* =\", topchoix, \".\")\n",
    "print(\"Le pourcentage de réussite est alors de\", reussites*100, \"%.\")"
   ]
  },
  {
   "cell_type": "markdown",
   "metadata": {},
   "source": [
    "## Lutter contre le sur-apprentissage\n",
    "Cette base de données met en lumière le phénomène de sur-apprentissage : il y a peu de données et dès que le nombre d'états augmente, il y a trop peu d'exemple pour estimer correctement les matrices {$A, \\pi$}. De nombreuses cases sont donc à 0, voire des lignes entières (d'où la sécurisation du code pour la normalisation des matrices stochastiques).\n",
    "\n",
    "Ces 0 sont particulièrement discriminants: considérant la classe {$c$}, ils permettent d'éliminer de cette classe tout signal présentant cette caractéristique. Cette règle est trop forte compte tenu de la taille de la base d'apprentissage. Nous proposons une astuce pour palier cette faiblesse : lors du comptage, initialiser les matrices {$A, \\pi$} avec ones au lieu de zeros . On fait semblant d'avoir observé une transition de chaque type avant même le début du comptage.\n",
    "\n",
    "Comparer les performances en test."
   ]
  },
  {
   "cell_type": "code",
   "execution_count": 93,
   "metadata": {},
   "outputs": [],
   "source": [
    "# redéfinition d'une ancienne fonction\n",
    "def learnMarkovModel(Xc, d):\n",
    "    A = np.ones((d,d)) # c'est tout ce qui change\n",
    "    Pi = np.ones(d)\n",
    "    for i in range(len(Xc)):\n",
    "        lettre=Xc[i] \n",
    "        Pi[int(lettre[0])]+=1\n",
    "        for j in range(len(lettre)-1):\n",
    "            hodie = int(lettre[j]) \n",
    "            cras = int(lettre[j+1])\n",
    "            A[hodie][cras]+=1 \n",
    "    A/=np.maximum(A.sum(1).reshape(d,1),1) \n",
    "    Pi/=Pi.sum()\n",
    "    return Pi, A"
   ]
  },
  {
   "cell_type": "code",
   "execution_count": 43,
   "metadata": {},
   "outputs": [
    {
     "name": "stdout",
     "output_type": "stream",
     "text": [
      "En évitant une partie du surapprentissage...\n",
      "En moyenne, la classification réussit au mieux pour d* = 10.6 .\n",
      "Le pourcentage de réussite est alors de 70.58333333333333 %.\n"
     ]
    }
   ],
   "source": [
    "print(\"En évitant une partie du surapprentissage...\")\n",
    "topchoix, reussites = findAverageTopAccuracy(X,Y,20)\n",
    "print(\"En moyenne, la classification réussit au mieux pour d* =\", topchoix, \".\")\n",
    "print(\"Le pourcentage de réussite est alors de\", reussites*100, \"%.\")"
   ]
  },
  {
   "cell_type": "markdown",
   "metadata": {},
   "source": [
    "On vient de constater une amélioration claire des performances en moyenne (environ 10% de réponses correctes en plus), et ce pour des valeurs de discrétisation plus grandes (passer de d\\*=5 à d\\*=11, c'est savoir gérer deux fois plus d'états possibles).  \n",
    "Ce n'est pas le coeur du propos. Sur un ensemble train/test fixé, intéressons-nous surtout à ce qui se passe pour de grandes valeurs de d, en lisant les dernières lignes de l'exécution suivante: "
   ]
  },
  {
   "cell_type": "code",
   "execution_count": 44,
   "metadata": {},
   "outputs": [
    {
     "name": "stdout",
     "output_type": "stream",
     "text": [
      "La performance sous le paramètre de discrétisation 2 plafonne à 31.666666666666664 % de prédictions justes.\n",
      "La performance sous le paramètre de discrétisation 4 plafonne à 66.66666666666666 % de prédictions justes.\n",
      "La performance sous le paramètre de discrétisation 6 plafonne à 66.66666666666666 % de prédictions justes.\n",
      "La performance sous le paramètre de discrétisation 8 plafonne à 70.0 % de prédictions justes.\n",
      "La performance sous le paramètre de discrétisation 10 plafonne à 65.0 % de prédictions justes.\n",
      "La performance sous le paramètre de discrétisation 12 plafonne à 61.66666666666667 % de prédictions justes.\n",
      "La performance sous le paramètre de discrétisation 14 plafonne à 60.0 % de prédictions justes.\n",
      "La performance sous le paramètre de discrétisation 16 plafonne à 61.66666666666667 % de prédictions justes.\n",
      "La performance sous le paramètre de discrétisation 18 plafonne à 65.0 % de prédictions justes.\n",
      "La performance sous le paramètre de discrétisation 20 plafonne à 66.66666666666666 % de prédictions justes.\n",
      "La performance sous le paramètre de discrétisation 22 plafonne à 65.0 % de prédictions justes.\n",
      "La performance sous le paramètre de discrétisation 24 plafonne à 66.66666666666666 % de prédictions justes.\n",
      "La performance sous le paramètre de discrétisation 26 plafonne à 65.0 % de prédictions justes.\n",
      "La performance sous le paramètre de discrétisation 28 plafonne à 56.666666666666664 % de prédictions justes.\n",
      "La performance sous le paramètre de discrétisation 30 plafonne à 61.66666666666667 % de prédictions justes.\n"
     ]
    },
    {
     "data": {
      "text/plain": [
       "(8, 0.7)"
      ]
     },
     "execution_count": 44,
     "metadata": {},
     "output_type": "execute_result"
    }
   ],
   "source": [
    "findTopAccuracy(X,Y,ia,it,verbose=True)"
   ]
  },
  {
   "cell_type": "markdown",
   "metadata": {},
   "source": [
    "On les compare à ce qui avait été obtenu plus haut.  \n",
    "Pour de grands d, les taux de réponses correctes ont été triplés (0.2 -> 0.6 %).  \n",
    "Le surapprentissage a donc été vaillamment combattu en supprimant au moins les risques de vraisemblance nulle : le modèle ne colle plus _exactement_ aux données étiquetées, ce qui lui laisse une marge de manoeuvre pour en reconnaître de nouvelles."
   ]
  },
  {
   "cell_type": "markdown",
   "metadata": {},
   "source": [
    "# Partie optionnelle\n",
    "## Evaluation qualitative\n",
    "\n",
    "Nous nous demandons maintenant où se trouvent les erreurs que nous avons commises...\n",
    "\n",
    "Calcul de la matrice de confusion: pour chaque échantillon de test, nous avons une prédiction (issue du modèle) et une vérité terrain (la vraie étiquette). En posant Nc le nombre de classes, la matrice de confusion est une matrice (Nc x Nc) où nous comptons le nombre d'échantillon de test dans chaque catégorie :\n",
    "\n",
    "- Initialisation à 0 : "
   ]
  },
  {
   "cell_type": "code",
   "execution_count": 83,
   "metadata": {},
   "outputs": [],
   "source": [
    "confusion = np.zeros((26,26))"
   ]
  },
  {
   "cell_type": "markdown",
   "metadata": {},
   "source": [
    "- Pour chaque échantillon, incrément de la case (prediction, vérité)"
   ]
  },
  {
   "cell_type": "code",
   "execution_count": 84,
   "metadata": {},
   "outputs": [],
   "source": [
    "d = 11\n",
    "predictions, Ynum = applyPrediction(X,Y,ia,it,d)\n",
    "# le choix de d est orienté par les résultats précédents, où d* valait 11.\n",
    "for i in range(len(Ynum)):\n",
    "    confusion[int(predictions[i])][int(Ynum[i])] += 1"
   ]
  },
  {
   "cell_type": "markdown",
   "metadata": {},
   "source": [
    "- Tracé de la matrice : "
   ]
  },
  {
   "cell_type": "code",
   "execution_count": 85,
   "metadata": {},
   "outputs": [
    {
     "data": {
      "image/png": "[encoded data removed]",
      "text/plain": [
       "<Figure size 432x288 with 2 Axes>"
      ]
     },
     "metadata": {
      "needs_background": "light"
     },
     "output_type": "display_data"
    }
   ],
   "source": [
    "plt.figure()\n",
    "plt.imshow(confusion, interpolation = 'nearest')\n",
    "plt.colorbar()\n",
    "plt.xticks(np.arange(26), np.unique(Y))\n",
    "plt.yticks(np.arange(26), np.unique(Y))\n",
    "plt.xlabel(u'Vérité terrain')\n",
    "plt.ylabel(u'Prédiction')\n",
    "plt.savefig(\"mat_conf_lettres.png\")"
   ]
  },
  {
   "cell_type": "markdown",
   "metadata": {},
   "source": [
    "Plus le signal est clair, plus il y a de correspondances à une position donnée (intersection de la ligne (prédiction) avec la colonne de même indice (ce qu'on attend, vérité terrain)).  \n",
    "Les erreurs sont les signaux qui divergent de la diagonale.  \n",
    "Par exemple, ce classifieur a une drôle de tendance à prendre les h pour des n.  \n",
    "Il y a des lettres pour lesquelles il ne se trompe jamais, c'est le cas du d, du a, du s entre autres."
   ]
  },
  {
   "cell_type": "markdown",
   "metadata": {},
   "source": [
    "## Modèle génératif\n",
    "\n",
    "Utiliser les modèles appris pour générer de nouvelles lettres manuscrites.\n",
    "\n",
    "### Tirage selon une loi de probabilité discrète\n",
    "\n",
    "- faire la somme cumulée de la loi {$sc$}\n",
    "- tirer un nombre aléatoire {$t$} entre 0 et 1\n",
    "- trouver la première valeur de {$sc$} qui est supérieure à {$t$}\n",
    "- retourner cet état \n",
    "\n",
    "**Note :** comme vu en cours, tout repose sur la somme cumulée (notée ici `sc$`, calculable en appelant `np.cumsum`. Sur un exemple: la loi `V = [0.2, 0.4, 0.3, 0.1]` a pour somme cumulée `V.cumsum() == [0.2,  0.6,  0.9,  1.0]`\n",
    "\n",
    "### Génération d'une séquence de longueur N\n",
    "\n",
    "- tirer un état {$s_0$} selon Pi\n",
    "- tant que la longueur n'est pas atteinte :\n",
    "  - tirer un état {$s_{t+1}$} selon {$A[s_{t}]$} "
   ]
  },
  {
   "cell_type": "code",
   "execution_count": 94,
   "metadata": {},
   "outputs": [],
   "source": [
    "def tirageDiscret(Pi):\n",
    "    # somme cumulée\n",
    "    sc = np.cumsum(Pi)\n",
    "    # tirage entre 0 et 1\n",
    "    t = random.random()\n",
    "    # recherche de dépassement\n",
    "    for i in range(len(sc)):\n",
    "        if sc[i] > t:\n",
    "            return i\n",
    "    # et s'il n'y a pas de dépassement,\n",
    "    # il faut bien retourner quelque chose\n",
    "    return len(sc)-1\n",
    "\n",
    "def genereSequence(Pi,A,No):\n",
    "    tirage = []\n",
    "    # tirer un état selon les probabilités initiales\n",
    "    tirage.append(tirageDiscret(Pi))\n",
    "    for i in range(No-1):\n",
    "        hodie = tirage[i]\n",
    "        # tirer un successeur selon la loi de probabilité associée à l'état courant\n",
    "        tirage.append(tirageDiscret(A[hodie]))\n",
    "    return tirage"
   ]
  },
  {
   "cell_type": "code",
   "execution_count": 144,
   "metadata": {},
   "outputs": [],
   "source": [
    "# pour générer des lettres, retour à la situation initiale\n",
    "# en ce qui concerne le surapprentissage\n",
    "# redéfinition de \n",
    "def learnMarkovModel(Xc, d):\n",
    "    A = np.zeros((d,d)) # c'est tout ce qui change\n",
    "    Pi = np.zeros(d)\n",
    "    for i in range(len(Xc)):\n",
    "        lettre=Xc[i] \n",
    "        Pi[int(lettre[0])]+=1\n",
    "        for j in range(len(lettre)-1):\n",
    "            hodie = int(lettre[j]) \n",
    "            cras = int(lettre[j+1])\n",
    "            A[hodie][cras]+=1 \n",
    "    A/=np.maximum(A.sum(1).reshape(d,1),1) \n",
    "    Pi/=Pi.sum()\n",
    "    return Pi, A"
   ]
  },
  {
   "cell_type": "markdown",
   "metadata": {},
   "source": [
    "### Affichage du résultat"
   ]
  },
  {
   "cell_type": "code",
   "execution_count": 233,
   "metadata": {},
   "outputs": [
    {
     "name": "stdout",
     "output_type": "stream",
     "text": [
      "Un air de famille avec la classe n° 0 ----\n"
     ]
    },
    {
     "name": "stderr",
     "output_type": "stream",
     "text": [
      "C:\\ProgramData\\Anaconda3\\lib\\site-packages\\ipykernel_launcher.py:6: RuntimeWarning: divide by zero encountered in log\n",
      "  \n"
     ]
    },
    {
     "data": {
      "image/png": "[encoded data removed]",
      "text/plain": [
       "<Figure size 432x288 with 1 Axes>"
      ]
     },
     "metadata": {
      "needs_background": "light"
     },
     "output_type": "display_data"
    }
   ],
   "source": [
    "# il est nécessaire de recalculer les vingt-six modèles pour le d choisi\n",
    "# on a envie de tenter d=360 pour obtenir un affichage visuellement reconnaissable, au plus près des valeurs d'entraînement.\n",
    "# de fait, ayant essayé, c'est encore pire avec une discrétisation plus large.\n",
    "\n",
    "d = 360                  # paramètre de discrétisation\n",
    "Xd = discretise(X,d)     # application de la discrétisation\n",
    "index = groupByLabel(Y)  # groupement des signaux par classe\n",
    "models = []\n",
    "for cl in range(len(np.unique(Y))): # parcours de toutes les classes et optimisation des modèles\n",
    "    models.append(learnMarkovModel(Xd[index[cl]], d))\n",
    "\n",
    "newa = genereSequence(models[0][0],models[0][1],20)      # génération d'une séquence de vingt états pour un A\n",
    "intervalle = 360./d                                      # pour passer des états => valeur d'angles\n",
    "newa_continu = np.array([i * intervalle for i in newa])  # conv int => double\n",
    "tracerLettre(newa_continu)\n",
    "\n",
    "# le classifieur reconnaît-il ce qu'il a généré ?\n",
    "vraisemblances = np.zeros(len(models))\n",
    "for modele in range (len(models)):\n",
    "    vraisemblances[modele]=probaSequence(newa,models[modele][0],models[modele][1])\n",
    "print(\"Un air de famille avec la classe n°\", vraisemblances.argmax(0), \"----\")"
   ]
  },
  {
   "cell_type": "markdown",
   "metadata": {},
   "source": [
    "C'est à peu près réussi - ça ne l'est pas toujours.\n",
    "Ci-dessous, une lettre r :"
   ]
  },
  {
   "cell_type": "code",
   "execution_count": 920,
   "metadata": {},
   "outputs": [
    {
     "name": "stderr",
     "output_type": "stream",
     "text": [
      "C:\\ProgramData\\Anaconda3\\lib\\site-packages\\ipykernel_launcher.py:6: RuntimeWarning: divide by zero encountered in log\n",
      "  \n"
     ]
    },
    {
     "name": "stdout",
     "output_type": "stream",
     "text": [
      "Un air de famille avec la classe n° 17 ----\n"
     ]
    },
    {
     "data": {
      "image/png": "[encoded data removed]",
      "text/plain": [
       "<Figure size 432x288 with 1 Axes>"
      ]
     },
     "metadata": {
      "needs_background": "light"
     },
     "output_type": "display_data"
    }
   ],
   "source": [
    "newr = genereSequence(models[17][0],models[17][1],20)    # génération d'une séquence de vingt états pour un A\n",
    "intervalle = 360./d                                      # pour passer des états => valeur d'angles\n",
    "newr_continu = np.array([i * intervalle for i in newr])  # conv int => double\n",
    "tracerLettre(newr_continu)\n",
    "\n",
    "vraisemblances = np.zeros(len(models))\n",
    "for modele in range (len(models)):\n",
    "    vraisemblances[modele]=probaSequence(newr_continu,models[modele][0],models[modele][1])\n",
    "print(\"Un air de famille avec la classe n°\", vraisemblances.argmax(0), \"----\")"
   ]
  },
  {
   "cell_type": "markdown",
   "metadata": {},
   "source": [
    "On ne se prononcera pas sur la qualité des échantillons de départ. Il y aurait à redire.  \n",
    "Ce qui est certain, c'est que ce que le classifieur voit - et qui lui permet d'établir une prédiction juste - n'a que peu de rapport avec ce que rend la vision humaine."
   ]
  },
  {
   "cell_type": "code",
   "execution_count": 859,
   "metadata": {},
   "outputs": [
    {
     "data": {
      "image/png": "[encoded data removed]",
      "text/plain": [
       "<Figure size 432x288 with 1 Axes>"
      ]
     },
     "metadata": {
      "needs_background": "light"
     },
     "output_type": "display_data"
    },
    {
     "data": {
      "image/png": "[encoded data removed]",
      "text/plain": [
       "<Figure size 432x288 with 1 Axes>"
      ]
     },
     "metadata": {
      "needs_background": "light"
     },
     "output_type": "display_data"
    },
    {
     "data": {
      "image/png": "[encoded data removed]",
      "text/plain": [
       "<Figure size 432x288 with 1 Axes>"
      ]
     },
     "metadata": {
      "needs_background": "light"
     },
     "output_type": "display_data"
    },
    {
     "data": {
      "image/png": "[encoded data removed]",
      "text/plain": [
       "<Figure size 432x288 with 1 Axes>"
      ]
     },
     "metadata": {
      "needs_background": "light"
     },
     "output_type": "display_data"
    },
    {
     "data": {
      "image/png": "[encoded data removed]",
      "text/plain": [
       "<Figure size 432x288 with 1 Axes>"
      ]
     },
     "metadata": {
      "needs_background": "light"
     },
     "output_type": "display_data"
    }
   ],
   "source": [
    "# mapsi !\n",
    "\n",
    "newm = genereSequence(models[12][0],models[12][1],20)    \n",
    "intervalle = 360./d                                      \n",
    "newm_continu = np.array([i * intervalle for i in newm]) \n",
    "tracerLettre(newm_continu)\n",
    "\n",
    "newa = genereSequence(models[0][0],models[0][1],20)      \n",
    "intervalle = 360./d                                      \n",
    "newa_continu = np.array([i * intervalle for i in newa]) \n",
    "tracerLettre(newa_continu)\n",
    "\n",
    "newp = genereSequence(models[15][0],models[15][1],20)    \n",
    "intervalle = 360./d                                     \n",
    "newp_continu = np.array([i * intervalle for i in newp]) \n",
    "tracerLettre(newp_continu)\n",
    "\n",
    "news = genereSequence(models[18][0],models[18][1],20)    \n",
    "intervalle = 360./d                                     \n",
    "news_continu = np.array([i * intervalle for i in news]) \n",
    "tracerLettre(news_continu)\n",
    "\n",
    "newi = genereSequence(models[8][0],models[8][1],20)      \n",
    "intervalle = 360./d                                     \n",
    "newi_continu = np.array([i * intervalle for i in newi]) \n",
    "tracerLettre(newi_continu)"
   ]
  }
 ],
 "metadata": {
  "kernelspec": {
   "display_name": "Python 3",
   "language": "python",
   "name": "python3"
  },
  "language_info": {
   "codemirror_mode": {
    "name": "ipython",
    "version": 3
   },
   "file_extension": ".py",
   "mimetype": "text/x-python",
   "name": "python",
   "nbconvert_exporter": "python",
   "pygments_lexer": "ipython3",
   "version": "3.7.4"
  }
 },
 "nbformat": 4,
 "nbformat_minor": 4
}
