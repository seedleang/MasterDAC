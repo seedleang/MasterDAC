{
 "cells": [
  {
   "cell_type": "markdown",
   "metadata": {},
   "source": [
    "# Dice Battle, un jeu à deux joueurs"
   ]
  },
  {
   "cell_type": "markdown",
   "metadata": {},
   "source": [
    "Le jeu sera bientôt doublé d'une interface graphique propre.  \n",
    "Pour l'instant, on se contente d'une implémentation analytique."
   ]
  },
  {
   "cell_type": "code",
   "execution_count": 1,
   "metadata": {},
   "outputs": [],
   "source": [
    "# Partie calculatoire \n",
    "import numpy as np\n",
    "import random\n",
    "import time\n",
    "from pulp import *\n",
    "import matplotlib.pyplot as plt"
   ]
  },
  {
   "cell_type": "markdown",
   "metadata": {},
   "source": [
    "## >>> _Invariants du jeu_"
   ]
  },
  {
   "cell_type": "markdown",
   "metadata": {},
   "source": [
    "La pensée stratégique dépendra dans tous les cas des calculs probabilistes définis dans la première partie du rapport :"
   ]
  },
  {
   "cell_type": "code",
   "execution_count": 2,
   "metadata": {},
   "outputs": [],
   "source": [
    "class Strategy(object):\n",
    "    \n",
    "    # ******************************************** ENVISAGER UNE PARTIE *******************************************************\n",
    "    def __init__(self,N,D):\n",
    "        \n",
    "        # Paramètres de la partie : objectif de points, nombre de dés autorisés -----------------------------------------------\n",
    "        self.N = N\n",
    "        self.D = D\n",
    "        # ---------------------------------------------------------------------------------------------------------------------\n",
    "        \n",
    "        # Tables de stockage pour la programmation dynamique ------------------------------------------------------------------\n",
    "        self.MQ = np.ones((self.D+1,self.N+6*self.D))*np.inf \n",
    "        # MQ contiendra les Q(d,k), \n",
    "        # soit les probabilités de réaliser chaque valeur de score atteignable - hormis 1\n",
    "        # pour toutes les quantités de dés possibles.\n",
    "        self.MP = np.ones((self.D+1,self.N+6*self.D))*np.inf\n",
    "        # MP contiendra les P(d,k),\n",
    "        # c'est une version de MQ qui prend aussi en compte la possibilité d'obtenir 1.\n",
    "        # Elle est l'acteur fondateur des prises de décision.\n",
    "        \n",
    "        # MP et MQ servent aux premières phases des calculs, elles ont été créées par... purisme ? \n",
    "        # En termes d'optimisation, elles ne sont pas aussi utiles que self.MEG dans le jeu séquentiel. \n",
    "        # ---------------------------------------------------------------------------------------------------------------------\n",
    "        \n",
    "    # *************************************************************************************************************************\n",
    "    \n",
    "    \n",
    "    # ********************************* METHODES COMMUNES A TOUTES LES VARIANTES **********************************************\n",
    "    \n",
    "    # Réfléchir en partant d'une étude probabiliste, en particulier des chances de réalisation de chaque score. ---------------\n",
    "    def Q(self,d,k):\n",
    "        \"\"\" Probabilité d'obtenir k points en lançant d dés, sachant qu'on n'a pas obtenu de 1. \"\"\"\n",
    "        if k < 2*d or k > 6*d:                                  # cas de base : scores inatteignables\n",
    "            return 0                         \n",
    "        if d == 1:                                              # cas de base : 1 chance sur 5 d'avoir 2, 3, 4, 5 ou 6 à un dé\n",
    "            return 1/5                                   \n",
    "        if self.MQ[d,k] != np.inf:                              # récupérer la valeur de Q si elle existe déjà ?\n",
    "            return self.MQ[d,k]         \n",
    "        p = np.array([self.Q(d-1,k-j) for j in range(2,7)])     # sinon, la calculer et la stocker \n",
    "        self.MQ[d,k] = np.sum(p)/5\n",
    "        return self.MQ[d,k]\n",
    "\n",
    "    def P(self,d,k):\n",
    "        \"\"\" Probabilité d'obtenir k points en lançant d dés - tout court. \"\"\"\n",
    "        if k > 1 and k < 2*d or k > 6*d+1:                      # cas de base : scores inatteignables\n",
    "            return 0             \n",
    "        if k == 1:                                              # cas de base : probabilité d'obtenir 1 quel que soit d\n",
    "            return 1-(5/6)**d                            \n",
    "        if self.MP[d,k] != np.inf:                              # récupérer la valeur de P si elle existe déjà ?\n",
    "            return self.MP[d,k]         \n",
    "        self.MP[d,k] = (5/6)**d * self.Q(d,k)                   # sinon, la calculer et la stocker\n",
    "        return self.MP[d,k]\n",
    "    \n",
    "    def allP(self):\n",
    "        \"\"\" La fonction précédente ne calcule qu'une seule case de la matrice P(d,k).\n",
    "        On s'assure ci-dessous, comme requis en 1), qu'elles se remplissent toutes. \"\"\"\n",
    "        for k in range (1,self.N+6*self.D):\n",
    "            for d in range(1,self.D+1):\n",
    "                self.MP[d,k] = self.P(d,k)\n",
    "    # -------------------------------------------------------------------------------------------------------------------------\n",
    "    \n",
    "    # *************************************************************************************************************************"
   ]
  },
  {
   "cell_type": "markdown",
   "metadata": {},
   "source": [
    "Le décor général est posé.  \n",
    "On peut maintenant choisir entre les deux variantes du jeu : séquentiel ? simultané ?"
   ]
  },
  {
   "cell_type": "markdown",
   "metadata": {},
   "source": [
    "## >>> _Variante séquentielle_"
   ]
  },
  {
   "cell_type": "markdown",
   "metadata": {},
   "source": [
    "La variante séquentielle contient deux méthodes majeures, un choix entre la stratégie aveugle et la stratégie optimale (avec en bonus la stratégie aléatoire). Ci-dessous, la classe qui permet de créer et d'utiliser le socle de décision adapté."
   ]
  },
  {
   "cell_type": "code",
   "execution_count": 3,
   "metadata": {},
   "outputs": [],
   "source": [
    "class Sequential(Strategy):\n",
    "    \n",
    "    # **************************************** DEFINIR UNE PARTIE EN MODE SEQUENTIEL ******************************************\n",
    "    def __init__(self,N,D):\n",
    "        \n",
    "        # charger les méthodes générales, N, D et tout ce qui s'ensuit de matrices de probabilité\n",
    "        Strategy.__init__(self,N,D) \n",
    "        \n",
    "        # Tables de stockage pour la programmation dynamique ------------------------------------------------------------------\n",
    "        self.MEG = np.ones((self.N+1,self.N+6*self.D))*np.inf\n",
    "        self.MEG[self.N-1:,:] = 1\n",
    "        self.MEG[:self.N,self.N:] = -1\n",
    "        # MEG stocke les espérances de gain d'un joueur en toute situation,\n",
    "        # à savoir, quel que soit son score actuel (indice i) et celui de son adversaire (indice j).\n",
    "        # Les scores en question peuvent théoriquement atteindre N+6D-1 si l'on arrive près de N et que l'on joue encore. \n",
    "        # Ce qu'implique la séquentialité, c'est que ce dépassement de N ne peut arriver que pour un seul des adversaires, \n",
    "        # après quoi l'autre cesse de jouer. On se permet donc de réduire l'une des deux dimensions de la matrice à N.\n",
    "        self.star = np.zeros((self.N,self.N)).astype('int')\n",
    "        # star stockera les réponses optimales des joueurs, celles qui maximisent l'espérance de gain en chaque situation.\n",
    "        # En mode stratégie optimale, c'est immédiatement à partir de star que le joueur décide de jouer un coup.\n",
    "        # ---------------------------------------------------------------------------------------------------------------------\n",
    "        \n",
    "        # Variables d'état ----------------------------------------------------------------------------------------------------\n",
    "        self.emptyE = True\n",
    "        # emptyE représente l'état de MEG : a-t-elle déjà été calculée ? \n",
    "        # Si oui, le calcul étant chronophage, on évitera de le refaire pour les parties suivantes sous un même N et D.\n",
    "        # ---------------------------------------------------------------------------------------------------------------------\n",
    "\n",
    "        \n",
    "    # ************************************************ STRATEGIE AVEUGLE ******************************************************\n",
    "    \n",
    "    # Un choix paresseux : chercher à obtenir immédiatement un maximum de points. ---------------------------------------------\n",
    "\n",
    "    def scoremax(self):\n",
    "        \"\"\" Retourne le nombre de dés maximisant l'espérance du nombre de points \n",
    "        en fonction du nombre maximal de dés autorisés. \"\"\"\n",
    "        d = np.arange(self.D) + 1\n",
    "        ep = 4*d*(5/6)**d + 1 - (5/6)**d\n",
    "        return np.argmax(ep) + 1\n",
    "    \n",
    "    def blind_strategy(self,i,j):\n",
    "        \"\"\" Il suffit alors de toujours jouer la même chose. \"\"\"\n",
    "        return self.scoremax()\n",
    "    \n",
    "    # -------------------------------------------------------------------------------------------------------------------------\n",
    "    \n",
    "    # *************************************************************************************************************************\n",
    "    \n",
    "    \n",
    "    # *********************************************** STRATEGIE OPTIMALE ******************************************************\n",
    "    \n",
    "    # Grâce aux calculs de probabilités, on arrive à une stratégie plus intelligente : ----------------------------------------\n",
    "    # l'idée est maintenant d'adapter ses choix à la situation, notamment à proximité de N. -----------------------------------\n",
    "\n",
    "    def eg(self,i,j):\n",
    "        \"\"\" Calcul de l'espérance de gain du joueur 1. \n",
    "        Implique de modéliser tous les chemins possibles jusqu'à la victoire... \"\"\"\n",
    "        if self.MEG[i,j] != np.inf: \n",
    "            return self.MEG[i,j]                                # optimisation du temps de calcul par mémoïsation\n",
    "        mesesp = []                                                              \n",
    "        sesesp = []                                             # (on en profite pour regarder l'EG de l'adversaire)\n",
    "        \n",
    "        for d in range(1,self.D+1):                             # pour tous les choix de d possibles\n",
    "            monesp = 0\n",
    "            sonesp = 0\n",
    "            for k in range(1,6*d+1):                            # calculer l'espérance de gain (considérer tout score possible)\n",
    "                monesp += self.MP[d,k]* self.eg(j,i+k)          # MP a été hérité de la classe mère Strategie\n",
    "                sonesp += self.MP[d,k] * self.eg(i,j+k) \n",
    "            mesesp.append(-monesp)\n",
    "            sesesp.append(-sonesp)\n",
    "            \n",
    "        self.MEG[i,j] = np.amax(mesesp)                         # on ne retient que l'espérance maximale sur les d possibles\n",
    "        self.star[i,j] = np.argmax(mesesp)+1                    # on a ainsi trouvé le d* de la stratégie optimale\n",
    "        self.MEG[j,i] = np.amax(sesesp)                         # gain de temps : raisonnement symétrique en face de la diagonale\n",
    "        self.star[j,i] = np.argmax(sesesp)+1\n",
    "        return self.MEG[i,j]\n",
    "                \n",
    "    def allEG(self):\n",
    "        \"\"\" La fonction précédente est cantonnée à des paramètres (i,j) fixés. \n",
    "        S'assurer que MEG soit complète avant de jouer. \"\"\"\n",
    "        self.allP()                                             # une fois tous les P calculés\n",
    "        for i in range(self.N-1,-1,-1): \n",
    "            for j in range(self.N-1,-1,-1):\n",
    "                self.eg(i,j)                                    # lancer le calcul d'EG pour tous les i et j\n",
    "    \n",
    "    def optimal_strategy(self,i,j):\n",
    "        \"\"\" ... et la décision peut enfin être prise. \"\"\"\n",
    "        if self.emptyE:                                         # faire en sorte que MEG soit calculée une et une seule fois\n",
    "            self.allEG()                              \n",
    "            self.emptyE = False\n",
    "        if i==self.N-1 and j==self.N-1: return 1                # éviter les \"suicides\" juste avant l'arrivée : toujours jouer 1\n",
    "        return self.star[i,j]                                   # à un stade donné, agir de sorte à maximiser l'espérance\n",
    "    \n",
    "    # -------------------------------------------------------------------------------------------------------------------------\n",
    "    \n",
    "    # *************************************************************************************************************************\n",
    "    \n",
    "    \n",
    "    # *********************************************** STRATEGIE ALEATOIRE *****************************************************\n",
    "    \n",
    "    # Défi : trouver un mode de jeu encore plus absurde que la stratégie aveugle. ---------------------------------------------\n",
    "    def random_strategy(self,i,j):\n",
    "        return random.randint(1,self.D)\n",
    "    \n",
    "    # -------------------------------------------------------------------------------------------------------------------------\n",
    "    \n",
    "    # *************************************************************************************************************************"
   ]
  },
  {
   "cell_type": "markdown",
   "metadata": {},
   "source": [
    "## >>> _Variante simultanée_"
   ]
  },
  {
   "cell_type": "markdown",
   "metadata": {},
   "source": [
    "La variante simultanée va compter sur un package de programmation linéaire, PULP."
   ]
  },
  {
   "cell_type": "code",
   "execution_count": 22,
   "metadata": {},
   "outputs": [],
   "source": [
    "class Simultaneous(Strategy):\n",
    "    \n",
    "    # ************************************** DEFINIR UNE PARTIE EN MODE SIMULTANE *********************************************\n",
    "    def __init__(self,N,D):\n",
    "        \n",
    "        # charger les méthodes générales, N, D et tout ce qui s'ensuit de matrices de probabilité -----------------------------\n",
    "        Strategy.__init__(self,N,D)   \n",
    "        # ---------------------------------------------------------------------------------------------------------------------\n",
    "        \n",
    "        # Pour l'instant, personne n'a calculé sa stratégie optimale. ---------------------------------------------------------\n",
    "        self.clear = True \n",
    "        self.p = np.zeros((self.D))\n",
    "        # ---------------------------------------------------------------------------------------------------------------------\n",
    "\n",
    "        # CECI N'EST UTILE QUE POUR LA PARTIE OPTIONNELLE\n",
    "        # Tables de stockage pour la programmation dynamique ------------------------------------------------------------------\n",
    "        self.MEG = np.ones((self.N+6*self.D,self.N+6*self.D))*np.inf\n",
    "        self.MEG[self.N:,:] = 1\n",
    "        self.MEG[:self.N,self.N:] = -1\n",
    "        self.star = np.zeros((self.N,self.N)).astype('int')\n",
    "        self.emptyE = True\n",
    "        # Ce code est presque identique à celui qu'on trouve dans Sequential.\n",
    "        # Il n'a pas été factorisé dans la classe mère en raison de l'aspect facultatif de son traitement.\n",
    "        # ---------------------------------------------------------------------------------------------------------------------\n",
    "        \n",
    "    # *************************************************************************************************************************\n",
    "        \n",
    "        \n",
    "    # ***************************************** OPTIMISATION DU JEU EN UN COUP ************************************************\n",
    "    \n",
    "    # Partie 1 : se représenter la situation, commencer par un calcul d'espérances du point de vue d'un des joueurs. ----------\n",
    "\n",
    "    def eg1(self,d1,d2):\n",
    "        \"\"\" Retourne l'espérance de gain du joueur 1, qui joue d1 dés. \n",
    "        Le joueur 2 joue d2 dés, il ne le voit pas : les deux joueurs jouent en même temps et une seule fois. \"\"\"\n",
    "        res = 0\n",
    "        # Probabilité que le joueur 1 obtienne plus de points que le joueur 2 ?\n",
    "        for k in range(1,6*d1+1):\n",
    "            temp = 0\n",
    "            for l in range(1,k):\n",
    "                temp += self.P(d2,l)\n",
    "            res += self.P(d1,k)*temp\n",
    "        # On soustrait la probabilité que le joueur 2 obtienne plus de points que le joueur 1.\n",
    "        for k in range(1,6*d2+1):\n",
    "            temp = 0\n",
    "            for l in range(1,k):\n",
    "                temp += self.P(d1,l)\n",
    "            res -= self.P(d2,k)*temp\n",
    "        return res\n",
    "   \n",
    "    def gain_matrix(self):\n",
    "        \"\"\" Obtenir la matrice des espérances de gain du joueur 1, calculée avec la fonction eg1. \"\"\"\n",
    "        M = np.zeros((self.D,self.D))\n",
    "        for i in range(self.D):\n",
    "            for j in range(self.D):\n",
    "                M[i,j] = self.eg1(i+1,j+1)\n",
    "        return M\n",
    "    \n",
    "    # -------------------------------------------------------------------------------------------------------------------------\n",
    "    \n",
    "    # Partie 2 : le joueur 1 est désormais capable de créer sa stratégie en résolvant un programme linéaire. ------------------\n",
    "    \n",
    "    def solve_pl(self):\n",
    "        \"\"\" Renvoyer le vecteur correspondant à la stratégie du premier joueur.\n",
    "        Le PL correspondant est défini dans le rapport. \"\"\"\n",
    "        prob = LpProblem(\"Jeu en un coup\", LpMaximize) \n",
    "        # Créer les variables p1, p2, ..., pD\n",
    "        var = [LpVariable(\"p%d\" % i, lowBound=0, cat='Continuous') for i in range(1,self.D+1)]\n",
    "        # L'objectif est la somme des pi.\n",
    "        prob += lpSum(var)  \n",
    "        \n",
    "        eg = self.gain_matrix()\n",
    "        # Pour chaque colonne de eg, ajouter la contrainte z - transposée_de_p * colonne_de_eg <= 0 au problème.\n",
    "        for j in range(self.D): \n",
    "            l = []\n",
    "            for i in range(self.D):\n",
    "                l.append(-var[i]*eg[i,j])\n",
    "            prob += lpSum(l) <= 0\n",
    "\n",
    "        # Ajouter la contrainte sur la somme des pi à 1 (ce sont des probabilités).\n",
    "        prob += lpSum(var) == 1  \n",
    "        # La contrainte sur la positivité de chaque pi a déjà été exprimée par l'attribut lowBound.\n",
    "\n",
    "        # Lancer le calcul.\n",
    "        prob.solve()\n",
    "        prob.writeLP(\"prob\")\n",
    "        \n",
    "        # Récupérer les réponses de PULP, arrondies pour retirer les traces indésirables.\n",
    "        p = []\n",
    "        for v in var:\n",
    "            p.append(v.varValue)\n",
    "        return np.around(np.array(p),7)\n",
    "    \n",
    "    def pl_strategy(self,i,j): \n",
    "        \"\"\" Générer un d* dans une situation de score (i,j), tiré selon le retour du programme linéaire. \"\"\"\n",
    "        if self.clear:\n",
    "            # Lancer le calcul du PL si et seulement s'il n'a pas déjà été fait :\n",
    "            self.p = self.solve_pl(self.D).cumsum()\n",
    "            self.clear = False\n",
    "        # Calcul du d* (variable à chaque exécution) selon la loi générée après résolution du PL.\n",
    "        r = random.random()\n",
    "        d = 0\n",
    "        while r > self.p[d]:\n",
    "            d += 1\n",
    "        return d+1\n",
    "    \n",
    "    # -------------------------------------------------------------------------------------------------------------------------\n",
    "    \n",
    "    # *************************************************************************************************************************\n",
    "    \n",
    "    \n",
    "    \n",
    "    # **************************** PARTIE OPTIONNELLE : OPTIMISATION DANS LE CAS GENERAL **************************************\n",
    "    \n",
    "    # Considérer une autre façon de calculer les espérances en supposant que plusieurs tours vont être joués. -----------------\n",
    "    \n",
    "    def egg(self,i,j):\n",
    "        \"\"\" Calcul de l'espérance de gain du joueur 1 en une situation i, j,\n",
    "        en prenant en compte tous les tirages possibles pour lui et pour son adversaire. \"\"\"\n",
    "        # renvoyer les espérances qu'on connaît\n",
    "        if self.MEG[i,j] != np.inf:\n",
    "            return self.MEG[i,j]\n",
    "        # calculer celles qu'on ne connaît pas\n",
    "        monesp = -1\n",
    "        coupintelligent = 1\n",
    "        # partir pessimiste : je vais perdre, comment limiter la casse ?\n",
    "        for d1 in range (1,self.D+1):\n",
    "            maxpertes = 1\n",
    "            # chercher l'espérance de gain de l'adversaire à supposer que je joue d1 dés.\n",
    "            for d2 in range (1,self.D+1):\n",
    "                sonesp = np.sum(self.MP[d1,1:6*self.D+1].reshape(6*self.D,1)*self.MP[d2,1:6*self.D+1] * self.MEG[i+1:i+1+6*self.D,j+1:j+1+6*self.D]) \n",
    "                # peut-être a-t-il en fait moins de chances de gagner que ce que je pensais ? mettre mes croyances à jour\n",
    "                maxpertes = min(maxpertes,sonesp)\n",
    "            # choisir donc ma réponse optimale qui maximise ses pertes !\n",
    "            if (monesp < maxpertes):\n",
    "                monesp = maxpertes\n",
    "                coupintelligent = d1\n",
    "        # compléter mes matrices pour programmation dynamique\n",
    "        self.MEG[i,j] = monesp\n",
    "        self.star[i,j] = coupintelligent\n",
    "        return self.MEG[i,j]     \n",
    "    \n",
    "    def allEggs(self):\n",
    "        \"\"\" S'assurer que toutes les espérances sont déjà calculées. \"\"\"\n",
    "        self.allP()                                             # une fois tous les P calculés\n",
    "        for i in range(self.N-1,-1,-1): \n",
    "            for j in range(self.N-1,-1,-1):\n",
    "                self.egg(i,j)                                    # lancer le calcul d'EG pour tous les i et j                       \n",
    "                    \n",
    "    def simoptimal_strategy(self,i,j):\n",
    "        \"\"\" Prendre sa décision. \"\"\"\n",
    "        if self.emptyE:                                         # faire en sorte que MEG soit calculée une et une seule fois\n",
    "            self.allEggs()                              \n",
    "            self.emptyE = False\n",
    "        if i==self.N-1 and j==self.N-1: return 1                # éviter les \"suicides\" juste avant l'arrivée : toujours jouer 1\n",
    "        return self.star[i,j]                                   # à un stade donné, agir de sorte à maximiser l'espérance\n",
    "    \n",
    "    # -------------------------------------------------------------------------------------------------------------------------\n",
    "    \n",
    "    # *************************************************************************************************************************"
   ]
  },
  {
   "cell_type": "markdown",
   "metadata": {},
   "source": [
    "## >>> _Annexes calculatoires_"
   ]
  },
  {
   "cell_type": "markdown",
   "metadata": {},
   "source": [
    "Définition de quelques matrices EG1 en fonction de D pour les jeux simultanés."
   ]
  },
  {
   "cell_type": "code",
   "execution_count": 18,
   "metadata": {},
   "outputs": [
    {
     "name": "stdout",
     "output_type": "stream",
     "text": [
      "[[-5.55111512e-17 -3.75000000e-01 -2.26851852e-01]\n",
      " [ 3.75000000e-01 -7.28583860e-17 -1.98816872e-01]\n",
      " [ 2.26851852e-01  1.98816872e-01  2.34187669e-17]]\n",
      "\n",
      " [[-5.55111512e-17 -3.75000000e-01 -2.26851852e-01 -5.07973251e-02\n",
      "   9.65577846e-02  2.19353709e-01]\n",
      " [ 3.75000000e-01 -7.28583860e-17 -1.98816872e-01 -1.16405178e-01\n",
      "   1.36424040e-02  1.26979024e-01]\n",
      " [ 2.26851852e-01  1.98816872e-01  2.34187669e-17 -1.00272920e-01\n",
      "  -4.52484377e-02  5.06845017e-02]\n",
      " [ 5.07973251e-02  1.16405178e-01  1.00272920e-01 -7.69783542e-17\n",
      "  -4.47746191e-02 -2.10626847e-03]\n",
      " [-9.65577846e-02 -1.36424040e-02  4.52484377e-02  4.47746191e-02\n",
      "   2.74845251e-17 -1.36514256e-02]\n",
      " [-2.19353709e-01 -1.26979024e-01 -5.06845017e-02  2.10626847e-03\n",
      "   1.36514256e-02  7.93127770e-17]]\n",
      "\n",
      " [[-5.55111512e-17 -3.75000000e-01 -2.26851852e-01 -5.07973251e-02\n",
      "   9.65577846e-02  2.19353709e-01  3.21683647e-01  4.06958595e-01\n",
      "   4.78021051e-01  5.37239765e-01]\n",
      " [ 3.75000000e-01 -7.28583860e-17 -1.98816872e-01 -1.16405178e-01\n",
      "   1.36424040e-02  1.26979024e-01  2.21556098e-01  3.00370822e-01\n",
      "   3.66049759e-01  4.20782207e-01]\n",
      " [ 2.26851852e-01  1.98816872e-01  2.34187669e-17 -1.00272920e-01\n",
      "  -4.52484377e-02  5.06845017e-02  1.38137758e-01  2.11547927e-01\n",
      "   2.72740350e-01  3.23734242e-01]\n",
      " [ 5.07973251e-02  1.16405178e-01  1.00272920e-01 -7.69783542e-17\n",
      "  -4.47746191e-02 -2.10626847e-03  6.98449521e-02  1.37606400e-01\n",
      "   1.94985226e-01  2.42860985e-01]\n",
      " [-9.65577846e-02 -1.36424040e-02  4.52484377e-02  4.47746191e-02\n",
      "   2.74845251e-17 -1.36514256e-02  2.23315180e-02  7.74976631e-02\n",
      "   1.30336887e-01  1.75475632e-01]\n",
      " [-2.19353709e-01 -1.26979024e-01 -5.06845017e-02  2.10626847e-03\n",
      "   1.36514256e-02  7.93127770e-17  3.36787118e-03  3.47902305e-02\n",
      "   7.79924301e-02  1.19524064e-01]\n",
      " [-3.21683647e-01 -2.21556098e-01 -1.38137758e-01 -6.98449521e-02\n",
      "  -2.23315180e-02 -3.36787118e-03 -1.95215683e-17  1.21418377e-02\n",
      "   3.98326446e-02  7.42734055e-02]\n",
      " [-4.06958595e-01 -3.00370822e-01 -2.11547927e-01 -1.37606400e-01\n",
      "  -7.74976631e-02 -3.47902305e-02 -1.21418377e-02  1.16729610e-17\n",
      "   1.61014904e-02  4.04536322e-02]\n",
      " [-4.78021051e-01 -3.66049759e-01 -2.72740350e-01 -1.94985226e-01\n",
      "  -1.30336887e-01 -7.79924301e-02 -3.98326446e-02 -1.61014904e-02\n",
      "   4.39616320e-17  1.72897008e-02]\n",
      " [-5.37239765e-01 -4.20782207e-01 -3.23734242e-01 -2.42860985e-01\n",
      "  -1.75475632e-01 -1.19524064e-01 -7.42734055e-02 -4.04536322e-02\n",
      "  -1.72897008e-02  5.20715423e-17]]\n"
     ]
    }
   ],
   "source": [
    "N = 100\n",
    "D = 3\n",
    "sim = Simultaneous(N,D) # à chaque fois, il nous faut instancier la classe pour avoir accès aux méthodes.\n",
    "print(sim.gain_matrix())\n",
    "\n",
    "D = 6\n",
    "sim = Simultaneous(N,D)\n",
    "print(\"\\n\",sim.gain_matrix())\n",
    "\n",
    "D = 10\n",
    "sim = Simultaneous(N,D)\n",
    "print(\"\\n\",sim.gain_matrix())\n",
    "\n",
    "# Avoir à réécrire trois lignes par test est un peu laborieux, \n",
    "# mais les fonctions et les classes sont pensées pour être utilisées en contexte de jeu,\n",
    "# elles ne sont pas très adaptées à ce genre de test.\n",
    "# L'idée, encore une fois, est que chaque partie équivaut à un état mental différent, \n",
    "# il faut donc changer de cerveau dès qu'on change de style ou de paramètres de partie."
   ]
  },
  {
   "cell_type": "markdown",
   "metadata": {},
   "source": [
    "Un peu choquées par la non-nullité de la diagonale, on l'explique par les approximations effectuées dans les calculs précédents ; \n",
    "on donne par exemple la preuve que les lignes de la matrice P(d,k) ne somment pas toutes exactement à 1:"
   ]
  },
  {
   "cell_type": "code",
   "execution_count": 19,
   "metadata": {
    "collapsed": true
   },
   "outputs": [
    {
     "name": "stdout",
     "output_type": "stream",
     "text": [
      "1.0\n",
      "1.0\n",
      "1.0\n",
      "1.0\n",
      "1.0\n",
      "1.0000000000000002\n",
      "1.0\n",
      "0.9999999999999999\n",
      "1.0000000000000002\n",
      "1.0\n"
     ]
    }
   ],
   "source": [
    "sim.allP()\n",
    "for i in range (1,sim.MP.shape[0]):\n",
    "    print(np.sum(sim.MP[i,1:]))"
   ]
  },
  {
   "cell_type": "markdown",
   "metadata": {},
   "source": [
    "On tente aussi de résoudre plusieurs PL pour des D différents, ce qui donne un florilège de stratégies mixtes pour le joueur 1 :"
   ]
  },
  {
   "cell_type": "code",
   "execution_count": null,
   "metadata": {},
   "outputs": [],
   "source": [
    "D = 3\n",
    "sim = Simultaneous(N,D)\n",
    "res = sim.solve_pl()\n",
    "print(\"D = \" , D, \".   Optimal strategy for Player 1 :\", res)\n",
    "print(np.sum(res)) # doit valoir 1 si ma contrainte est bien vérifiée\n",
    "\n",
    "D = 6\n",
    "sim = Simultaneous(N,D)\n",
    "res = sim.solve_pl()\n",
    "print(\"\\nD = \" , D, \".   Optimal strategy for Player 1 :\", res)\n",
    "print(np.sum(res))\n",
    "\n",
    "D = 10\n",
    "sim = Simultaneous(N,D)\n",
    "res = sim.solve_pl()\n",
    "print(\"\\nD = \" , D, \".   Optimal strategy for Player 1 :\", res)\n",
    "print(np.sum(res))\n",
    "\n",
    "D = 20\n",
    "sim = Simultaneous(N,D)\n",
    "res = sim.solve_pl()\n",
    "print(\"\\nD = \" , D, \".   Optimal strategy for Player 1 :\", res)\n",
    "print(np.sum(res))"
   ]
  },
  {
   "cell_type": "markdown",
   "metadata": {},
   "source": [
    "## >>> _Exemples et interactions_"
   ]
  },
  {
   "cell_type": "markdown",
   "metadata": {},
   "source": [
    "Une fois le support mathématique implémenté, il devient possible de conduire de vraies parties :"
   ]
  },
  {
   "cell_type": "code",
   "execution_count": 12,
   "metadata": {},
   "outputs": [],
   "source": [
    "# *************************************** TIRAGES ET DEROULEMENT D'UNE PARTIE *************************************************\n",
    "    \n",
    "def throw(d):\n",
    "    \"\"\" Lancer les dés et simuler le score. \"\"\"\n",
    "    r = np.random.randint(1,6,d)\n",
    "    if (r == 1).sum() >= 1: return 1  \n",
    "    else: return np.sum(r)\n",
    "\n",
    "def seqgame(strat1, strat2, verbose = True, interact = False):\n",
    "    \"\"\" Jouer une partie séquentielle entre un joueur de type strat1 et un joueur de type strat2.\n",
    "    Le mode verbose permet d'afficher ou non les commentaires de jeu (on évite pour les tests).\n",
    "    Le mode interact permet d'utiliser ou non la fonction input de Python, si l'on veut se mesurer à la machine. \"\"\"\n",
    "    if interact:\n",
    "        role = input(\"Which player would you like to be ?  \")\n",
    "    score1 = 0\n",
    "    score2 = 0\n",
    "    round = 1\n",
    "    while score1 < N and score2 < N:                                       # tant que personne n'a gagné\n",
    "        if verbose:\n",
    "            print(\"\\nROUND\", round, \"\\t\", score1, \"to\", score2)            # faire l'état des lieux \n",
    "            print(\"=======================\")\n",
    "        if interact and int(role) == 1: \n",
    "            choix1 = input(\"Choose your warriors.  \")\n",
    "        else : choix1 = strat1(score1, score2)                             # jouer le coup suivant côté 1\n",
    "        add1 = throw(int(choix1))                                          # voir ce que le hasard décide\n",
    "        score1 += add1                                                     \n",
    "        if verbose:                              \n",
    "            print(\"Player 1 throws\", choix1, \"dice\")\n",
    "            print(\" >>> Player 1 scores\", add1)\n",
    "        if score1 < N:                                                     # continuer, à moins que 1 n'ait déjà gagné\n",
    "            if interact and int(role) == 2: \n",
    "                choix2 = input(\"Choose your warriors.  \")\n",
    "            else: choix2 = strat2(score2, score1)                          # jouer le coup suivant côté 2    \n",
    "            add2 = throw(int(choix2))                                      # voir ce que le hasard décide\n",
    "            score2 += add2 \n",
    "            if verbose:\n",
    "                print(\"Player 2 throws\", choix2, \"dice\")   \n",
    "                print(\" >>> Player 2 scores\", add2)\n",
    "        round += 1\n",
    "    if verbose: print(\"\\n! FINAL SCORE\", score1, \"to\", score2, \"!\")        # fin du jeu. afficher le gagnant.\n",
    "    if score1 >= N:                                                  \n",
    "        if verbose: print(\"Player 1 wins !\")\n",
    "        return 1                                                           # valeur de retour pour calcul du winrate\n",
    "    else:\n",
    "        if verbose: print(\"Player 2 wins !\")\n",
    "        return 0\n",
    "        \n",
    "def simgame(strat1, strat2, verbose = True, interact = False, oneround = True):\n",
    "    \"\"\" Jouer une partie simultanée entre un joueur de type strat1 et un joueur de type strat2.\n",
    "    Un nouveau paramètre, pour savoir si l'on est dans le cas général ou dans le jeu à un seul tir. \"\"\"\n",
    "    if interact:\n",
    "        role = input(\"Which player would you like to be ?  \")\n",
    "    score1 = 0\n",
    "    score2 = 0\n",
    "    round = 1\n",
    "    while score1 < N and score2 < N:                                       # tant que personne n'a gagné\n",
    "        if verbose:\n",
    "            print(\"\\nROUND\", round, \"\\t\", score1, \"to\", score2)            # faire l'état des lieux \n",
    "            print(\"=======================\")\n",
    "        if interact and int(role) == 1: \n",
    "            choix1 = input(\"Choose your warriors.  \")\n",
    "        else : choix1 = strat1(score1, score2)                             # jouer un coup côté 1\n",
    "        add1 = throw(int(choix1))                                          # voir ce que le hasard décide\n",
    "        oldscore1 = score1                                                 # garder une trace de l'ancien score\n",
    "        score1 += add1                                                     \n",
    "        if interact and int(role) == 2: \n",
    "            choix2 = input(\"Choose your warriors.  \")\n",
    "        else: choix2 = strat2(score2, oldscore1)                           # jouer un coup côté 2 sans savoir ce qui vient de se passer\n",
    "        add2 = throw(int(choix2))                                          # voir ce que le hasard décide\n",
    "        score2 += add2 \n",
    "        if verbose:                      \n",
    "            print(\"Player 1 threw\", choix1, \"dice\")\n",
    "            print(\" >>> Player 1 scored\", add1)\n",
    "            print(\"Player 2 threw\", choix2, \"dice\")   \n",
    "            print(\" >>> Player 2 scored\", add2)\n",
    "        round += 1\n",
    "        if oneround: break                                                 # forcer la fin du jeu s'il est en un tour\n",
    "    if verbose: print(\"\\n! FINAL SCORE\", score1, \"to\", score2, \"!\")        # fin du jeu. afficher le gagnant.\n",
    "    if score1 > score2:                                                  \n",
    "        if verbose: print(\"Player 1 wins !\")\n",
    "        return 1                                                           # valeur de retour pour calcul du winrate\n",
    "    elif score1 < score2:\n",
    "        if verbose: print(\"Player 2 wins !\")\n",
    "        return 0\n",
    "    else:\n",
    "        if verbose: print(\"Erm... Pat ?\")\n",
    "        return 1\n",
    "        \n",
    "# *****************************************************************************************************************************"
   ]
  },
  {
   "cell_type": "markdown",
   "metadata": {},
   "source": [
    "#### _définition du contexte, lancement d'un jeu séquentiel_"
   ]
  },
  {
   "cell_type": "code",
   "execution_count": 18,
   "metadata": {},
   "outputs": [
    {
     "name": "stdout",
     "output_type": "stream",
     "text": [
      "What is the goal to reach ?  100\n",
      "How many dice are my friend and I allowed to use ?  10\n",
      "A game starts with 10 dice below. Whichever player reaches 100 points first wins.\n",
      "\n",
      "ROUND 1 \t 0 to 0\n",
      "=======================\n",
      "Player 1 throws 6 dice\n",
      " >>> Player 1 scores 1\n",
      "Player 2 throws 6 dice\n",
      " >>> Player 2 scores 1\n",
      "\n",
      "ROUND 2 \t 1 to 1\n",
      "=======================\n",
      "Player 1 throws 6 dice\n",
      " >>> Player 1 scores 23\n",
      "Player 2 throws 6 dice\n",
      " >>> Player 2 scores 20\n",
      "\n",
      "ROUND 3 \t 24 to 21\n",
      "=======================\n",
      "Player 1 throws 6 dice\n",
      " >>> Player 1 scores 1\n",
      "Player 2 throws 6 dice\n",
      " >>> Player 2 scores 1\n",
      "\n",
      "ROUND 4 \t 25 to 22\n",
      "=======================\n",
      "Player 1 throws 6 dice\n",
      " >>> Player 1 scores 1\n",
      "Player 2 throws 6 dice\n",
      " >>> Player 2 scores 1\n",
      "\n",
      "ROUND 5 \t 26 to 23\n",
      "=======================\n",
      "Player 1 throws 6 dice\n",
      " >>> Player 1 scores 1\n",
      "Player 2 throws 6 dice\n",
      " >>> Player 2 scores 1\n",
      "\n",
      "ROUND 6 \t 27 to 24\n",
      "=======================\n",
      "Player 1 throws 6 dice\n",
      " >>> Player 1 scores 1\n",
      "Player 2 throws 6 dice\n",
      " >>> Player 2 scores 1\n",
      "\n",
      "ROUND 7 \t 28 to 25\n",
      "=======================\n",
      "Player 1 throws 6 dice\n",
      " >>> Player 1 scores 1\n",
      "Player 2 throws 6 dice\n",
      " >>> Player 2 scores 1\n",
      "\n",
      "ROUND 8 \t 29 to 26\n",
      "=======================\n",
      "Player 1 throws 6 dice\n",
      " >>> Player 1 scores 1\n",
      "Player 2 throws 6 dice\n",
      " >>> Player 2 scores 1\n",
      "\n",
      "ROUND 9 \t 30 to 27\n",
      "=======================\n",
      "Player 1 throws 6 dice\n",
      " >>> Player 1 scores 18\n",
      "Player 2 throws 7 dice\n",
      " >>> Player 2 scores 1\n",
      "\n",
      "ROUND 10 \t 48 to 28\n",
      "=======================\n",
      "Player 1 throws 5 dice\n",
      " >>> Player 1 scores 21\n",
      "Player 2 throws 9 dice\n",
      " >>> Player 2 scores 1\n",
      "\n",
      "ROUND 11 \t 69 to 29\n",
      "=======================\n",
      "Player 1 throws 4 dice\n",
      " >>> Player 1 scores 1\n",
      "Player 2 throws 9 dice\n",
      " >>> Player 2 scores 1\n",
      "\n",
      "ROUND 12 \t 70 to 30\n",
      "=======================\n",
      "Player 1 throws 4 dice\n",
      " >>> Player 1 scores 1\n",
      "Player 2 throws 9 dice\n",
      " >>> Player 2 scores 32\n",
      "\n",
      "ROUND 13 \t 71 to 62\n",
      "=======================\n",
      "Player 1 throws 7 dice\n",
      " >>> Player 1 scores 25\n",
      "Player 2 throws 10 dice\n",
      " >>> Player 2 scores 1\n",
      "\n",
      "ROUND 14 \t 96 to 63\n",
      "=======================\n",
      "Player 1 throws 2 dice\n",
      " >>> Player 1 scores 7\n",
      "\n",
      "! FINAL SCORE 103 to 63 !\n",
      "Player 1 wins !\n"
     ]
    },
    {
     "data": {
      "text/plain": [
       "1"
      ]
     },
     "execution_count": 18,
     "metadata": {},
     "output_type": "execute_result"
    }
   ],
   "source": [
    "N = int(input(\"What is the goal to reach ?  \"))\n",
    "D = int(input(\"How many dice are my friend and I allowed to use ?  \"))\n",
    "seq = Sequential(N, D) # création du socle de décision adéquat\n",
    "print(\"A game starts with\", D, \"dice below. Whichever player reaches\", N, \"points first wins.\")\n",
    "\n",
    "# Un premier exemple.\n",
    "seqgame(seq.optimal_strategy, seq.optimal_strategy)"
   ]
  },
  {
   "cell_type": "markdown",
   "metadata": {},
   "source": [
    "#### _interaction sur un jeu séquentiel_"
   ]
  },
  {
   "cell_type": "code",
   "execution_count": 19,
   "metadata": {},
   "outputs": [
    {
     "name": "stdout",
     "output_type": "stream",
     "text": [
      "Which player would you like to be ?  1\n",
      "\n",
      "ROUND 1 \t 0 to 0\n",
      "=======================\n",
      "Choose your warriors.  3\n",
      "Player 1 throws 3 dice\n",
      " >>> Player 1 scores 1\n",
      "Player 2 throws 6 dice\n",
      " >>> Player 2 scores 22\n",
      "\n",
      "ROUND 2 \t 1 to 22\n",
      "=======================\n",
      "Choose your warriors.  4\n",
      "Player 1 throws 4 dice\n",
      " >>> Player 1 scores 1\n",
      "Player 2 throws 5 dice\n",
      " >>> Player 2 scores 1\n",
      "\n",
      "ROUND 3 \t 2 to 23\n",
      "=======================\n",
      "Choose your warriors.  2\n",
      "Player 1 throws 2 dice\n",
      " >>> Player 1 scores 6\n",
      "Player 2 throws 5 dice\n",
      " >>> Player 2 scores 1\n",
      "\n",
      "ROUND 4 \t 8 to 24\n",
      "=======================\n",
      "Choose your warriors.  3\n",
      "Player 1 throws 3 dice\n",
      " >>> Player 1 scores 13\n",
      "Player 2 throws 6 dice\n",
      " >>> Player 2 scores 1\n",
      "\n",
      "ROUND 5 \t 21 to 25\n",
      "=======================\n",
      "Choose your warriors.  2\n",
      "Player 1 throws 2 dice\n",
      " >>> Player 1 scores 7\n",
      "Player 2 throws 6 dice\n",
      " >>> Player 2 scores 21\n",
      "\n",
      "ROUND 6 \t 28 to 46\n",
      "=======================\n",
      "Choose your warriors.  3\n",
      "Player 1 throws 3 dice\n",
      " >>> Player 1 scores 10\n",
      "Player 2 throws 6 dice\n",
      " >>> Player 2 scores 1\n",
      "\n",
      "ROUND 7 \t 38 to 47\n",
      "=======================\n",
      "Choose your warriors.  3\n",
      "Player 1 throws 3 dice\n",
      " >>> Player 1 scores 11\n",
      "Player 2 throws 6 dice\n",
      " >>> Player 2 scores 1\n",
      "\n",
      "ROUND 8 \t 49 to 48\n",
      "=======================\n",
      "Choose your warriors.  3\n",
      "Player 1 throws 3 dice\n",
      " >>> Player 1 scores 9\n",
      "Player 2 throws 6 dice\n",
      " >>> Player 2 scores 1\n",
      "\n",
      "ROUND 9 \t 58 to 49\n",
      "=======================\n",
      "Choose your warriors.  4\n",
      "Player 1 throws 4 dice\n",
      " >>> Player 1 scores 1\n",
      "Player 2 throws 6 dice\n",
      " >>> Player 2 scores 21\n",
      "\n",
      "ROUND 10 \t 59 to 70\n",
      "=======================\n",
      "Choose your warriors.  3\n",
      "Player 1 throws 3 dice\n",
      " >>> Player 1 scores 1\n",
      "Player 2 throws 7 dice\n",
      " >>> Player 2 scores 26\n",
      "\n",
      "ROUND 11 \t 60 to 96\n",
      "=======================\n",
      "Choose your warriors.  4\n",
      "Player 1 throws 4 dice\n",
      " >>> Player 1 scores 1\n",
      "Player 2 throws 2 dice\n",
      " >>> Player 2 scores 4\n",
      "\n",
      "! FINAL SCORE 61 to 100 !\n",
      "Player 2 wins !\n"
     ]
    },
    {
     "data": {
      "text/plain": [
       "0"
      ]
     },
     "execution_count": 19,
     "metadata": {},
     "output_type": "execute_result"
    }
   ],
   "source": [
    "seqgame(seq.optimal_strategy, seq.optimal_strategy, interact = True)\n",
    "\n",
    "# Les paramètres de seqgame peuvent varier entre seq.optimal_strategy, seq.blind_strategy, seq.random_strategy.\n",
    "# Tenter de faire varier ces paramètres pour le joueur non-humain."
   ]
  },
  {
   "cell_type": "markdown",
   "metadata": {},
   "source": [
    "#### _jeu simultané en un tour_"
   ]
  },
  {
   "cell_type": "code",
   "execution_count": null,
   "metadata": {},
   "outputs": [],
   "source": [
    "sim = Simultaneous(N,D) # création du socle de décision adéquat\n",
    "simgame(sim.pl_strategy, seq.blind_strategy) # récupération de la stratégie aveugle sur l'autre type de jeu"
   ]
  },
  {
   "cell_type": "markdown",
   "metadata": {},
   "source": [
    "#### _jeu simultané en plusieurs tours_"
   ]
  },
  {
   "cell_type": "code",
   "execution_count": null,
   "metadata": {},
   "outputs": [],
   "source": [
    "# partie optionnelle : ce code est lent, très lent\n",
    "simgame(sim.simoptimal_strategy, sim.simoptimal_strategy, oneround = False)"
   ]
  },
  {
   "cell_type": "markdown",
   "metadata": {},
   "source": [
    "#### _interaction sur un jeu simultané en plusieurs tours_"
   ]
  },
  {
   "cell_type": "code",
   "execution_count": null,
   "metadata": {},
   "outputs": [],
   "source": [
    "simgame(sim.simoptimal_strategy, sim.simoptimal_strategy, interact = True, oneround = False)"
   ]
  },
  {
   "cell_type": "markdown",
   "metadata": {},
   "source": [
    "## >>> _Tests statistiques_"
   ]
  },
  {
   "cell_type": "code",
   "execution_count": null,
   "metadata": {},
   "outputs": [],
   "source": [
    "# Variables communes à tous les tests : jouer nb_parties d'un type de match donné\n",
    "# ns et ds servent à créer les graduations du graphique\n",
    "nb_parties = 10000\n",
    "ns = np.arange(20, 220, 20)\n",
    "ds = np.arange(2,22,2)"
   ]
  },
  {
   "cell_type": "markdown",
   "metadata": {},
   "source": [
    "#### _jeu séquentiel_"
   ]
  },
  {
   "cell_type": "markdown",
   "metadata": {},
   "source": [
    "Il s'agit maintenant d'évaluer nos stratégies, d'abord selon l'objectif à atteindre, en fixant D = 10 :"
   ]
  },
  {
   "cell_type": "code",
   "execution_count": null,
   "metadata": {},
   "outputs": [],
   "source": [
    "# Aveugle contre aveugle : mode séquentiel\n",
    "winrates_n_bb = np.zeros((10))\n",
    "winrates_d_bb = np.zeros((10))\n",
    "# Optimale contre optimale : mode séquentiel\n",
    "winrates_n_oo = np.zeros((10))\n",
    "winrates_d_oo = np.zeros((10))\n",
    "# Optimale contre aveugle : mode séquentiel\n",
    "winrates_n_ob = np.zeros((10))\n",
    "winrates_d_ob = np.zeros((10))\n",
    "# Aveugle contre optimale : mode séquentiel\n",
    "winrates_n_bo = np.zeros((10))\n",
    "winrates_d_bo = np.zeros((10))"
   ]
  },
  {
   "cell_type": "code",
   "execution_count": 74,
   "metadata": {},
   "outputs": [
    {
     "data": {
      "image/png": "[encoded data removed]",
      "text/plain": [
       "<Figure size 432x288 with 1 Axes>"
      ]
     },
     "metadata": {
      "needs_background": "light"
     },
     "output_type": "display_data"
    }
   ],
   "source": [
    "for n in range (20,220,20):\n",
    "    N = n\n",
    "    seq = Sequential(n,10)\n",
    "    resbb = np.sum(np.array([seqgame(seq.blind_strategy,seq.blind_strategy,False) for i in range(nb_parties)]))\n",
    "    resoo = np.sum(np.array([seqgame(seq.optimal_strategy,seq.optimal_strategy,False) for i in range(nb_parties)]))\n",
    "    resob = np.sum(np.array([seqgame(seq.optimal_strategy,seq.blind_strategy,False) for i in range(nb_parties)]))\n",
    "    resbo = np.sum(np.array([seqgame(seq.blind_strategy,seq.optimal_strategy,False) for i in range(nb_parties)]))\n",
    "    winrates_n_bb[int((n-20)/20)] = resbb/nb_parties\n",
    "    winrates_n_oo[int((n-20)/20)] = resoo/nb_parties\n",
    "    winrates_n_ob[int((n-20)/20)] = resob/nb_parties\n",
    "    winrates_n_bo[int((n-20)/20)] = resbo/nb_parties\n",
    "    \n",
    "plt.figure()\n",
    "plt.plot(ns, winrates_n_bb, 'c--', ns, winrates_n_oo, 'b--', ns, winrates_n_ob, 'g--', ns, winrates_n_bo, 'y--', ns, np.full(ns.shape,0.5),'k')\n",
    "plt.show()"
   ]
  },
  {
   "cell_type": "markdown",
   "metadata": {},
   "source": [
    "puis selon le nombre de dés autorisés, en fixant l'objectif N = 100:"
   ]
  },
  {
   "cell_type": "code",
   "execution_count": 92,
   "metadata": {},
   "outputs": [
    {
     "data": {
      "image/png": "[encoded data removed]",
      "text/plain": [
       "<Figure size 432x288 with 1 Axes>"
      ]
     },
     "metadata": {
      "needs_background": "light"
     },
     "output_type": "display_data"
    }
   ],
   "source": [
    "for d in range (2,22,2):\n",
    "    N = 100\n",
    "    seq = Sequential(100,d)\n",
    "    resbb = np.sum(np.array([seqgame(seq.blind_strategy,seq.blind_strategy,False) for i in range(nb_parties)]))\n",
    "    resoo = np.sum(np.array([seqgame(seq.optimal_strategy,seq.optimal_strategy,False) for i in range(nb_parties)]))\n",
    "    resob = np.sum(np.array([seqgame(seq.optimal_strategy,seq.blind_strategy,False) for i in range(nb_parties)]))\n",
    "    resbo = np.sum(np.array([seqgame(seq.blind_strategy,seq.optimal_strategy,False) for i in range(nb_parties)]))\n",
    "    winrates_d_bb[int((d-2)/2)] = resbb/nb_parties\n",
    "    winrates_d_oo[int((d-2)/2)] = resoo/nb_parties\n",
    "    winrates_d_ob[int((d-2)/2)] = resob/nb_parties\n",
    "    winrates_d_bo[int((d-2)/2)] = resbo/nb_parties\n",
    "\n",
    "plt.figure()\n",
    "plt.plot(ds, winrates_d_bb, 'c--', ds, winrates_d_oo, 'b--', ds, winrates_d_ob, 'g--', ds, winrates_d_bo, 'y--', ds, np.full(ns.shape,0.5),'k')\n",
    "plt.show()"
   ]
  },
  {
   "cell_type": "markdown",
   "metadata": {},
   "source": [
    "On cherche aussi à évaluer la stratégie aléatoire par rapport aux deux autres : puisqu'on se doute qu'elle va perdre, on lui laisse l'avantage."
   ]
  },
  {
   "cell_type": "code",
   "execution_count": 14,
   "metadata": {},
   "outputs": [
    {
     "data": {
      "image/png": "[encoded data removed]",
      "text/plain": [
       "<Figure size 432x288 with 1 Axes>"
      ]
     },
     "metadata": {
      "needs_background": "light"
     },
     "output_type": "display_data"
    },
    {
     "data": {
      "image/png": "[encoded data removed]",
      "text/plain": [
       "<Figure size 432x288 with 1 Axes>"
      ]
     },
     "metadata": {
      "needs_background": "light"
     },
     "output_type": "display_data"
    }
   ],
   "source": [
    "# Aléatoire contre aveugle : mode séquentiel\n",
    "winrates_n_ab = np.zeros((10))\n",
    "winrates_d_ab = np.zeros((10))\n",
    "# Aléatoire contre optimale : mode séquentiel\n",
    "winrates_n_ao = np.zeros((10))\n",
    "winrates_d_ao = np.zeros((10))\n",
    "    \n",
    "for n in range (20,220,20):\n",
    "    N = n\n",
    "    seq = Sequential(n,10)\n",
    "    resab = np.sum(np.array([seqgame(seq.random_strategy,seq.blind_strategy,False) for i in range(nb_parties)]))\n",
    "    resao = np.sum(np.array([seqgame(seq.random_strategy,seq.optimal_strategy,False) for i in range(nb_parties)]))\n",
    "    winrates_n_ab[int((n-20)/20)] = resab/nb_parties\n",
    "    winrates_n_ao[int((n-20)/20)] = resao/nb_parties\n",
    "\n",
    "plt.figure()\n",
    "plt.plot(ns, winrates_n_ab, 'r--', ns, winrates_n_ao, 'm--', ns, np.full(ns.shape,0.5),'k')\n",
    "plt.show()"
   ]
  },
  {
   "cell_type": "code",
   "execution_count": null,
   "metadata": {},
   "outputs": [],
   "source": [
    "for d in range (2,22,2):\n",
    "    N = 100\n",
    "    seq = Sequential(100,d)\n",
    "    resab = np.sum(np.array([seqgame(seq.random_strategy,seq.blind_strategy,False) for i in range(nb_parties)]))\n",
    "    resao = np.sum(np.array([seqgame(seq.random_strategy,seq.optimal_strategy,False) for i in range(nb_parties)]))\n",
    "    winrates_d_ab[int((d-2)/2)] = resab/nb_parties\n",
    "    winrates_d_ao[int((d-2)/2)] = resao/nb_parties\n",
    "\n",
    "plt.figure()\n",
    "plt.plot(ds, winrates_d_ab, 'r--', ds, winrates_d_ao, 'm--', ds, np.full(ns.shape,0.5),'k')\n",
    "plt.show()"
   ]
  },
  {
   "cell_type": "markdown",
   "metadata": {},
   "source": [
    "#### _jeu simultané_"
   ]
  },
  {
   "cell_type": "markdown",
   "metadata": {},
   "source": [
    "Pour le jeu simultané, on teste comme requis en 14) la solidité de la stratégie pl-optimale face à la stratégie aveugle.  \n",
    "Il n'y a plus de relation d'ordre entre les joueurs, donc un seul test par paramètre varié suffit pour les comparer."
   ]
  },
  {
   "cell_type": "code",
   "execution_count": null,
   "metadata": {},
   "outputs": [],
   "source": [
    "# Optimale contre aveugle : mode simultané\n",
    "winrates_n_plb = np.zeros((10))\n",
    "winrates_d_plb = np.zeros((10))\n",
    "\n",
    "for n in range (20,220,20):\n",
    "    N = n\n",
    "    seq = Sequential(n,10)\n",
    "    sim = Simultaneous(n,10)\n",
    "    resplb = np.sum(np.array([simgame(sim.pl_strategy,seq.blind_strategy,False) for i in range(nb_parties)]))\n",
    "    winrates_n_plb[int((n-20)/20)] = resplb/nb_parties\n",
    "plt.figure()\n",
    "plt.plot(ns, winrates_n_plb, 'c--', ns, np.full(ns.shape,0.5),'k')\n",
    "plt.show()\n",
    "\n",
    "N = 100\n",
    "for d in range (2,22,2):\n",
    "    seq = Sequential(N,d)\n",
    "    sim = Simultaneous(N,d)\n",
    "    resplb = np.sum(np.array([simgame(sim.pl_strategy,seq.blind_strategy,False) for i in range(nb_parties)]))\n",
    "    winrates_d_plb[int((d-2)/2)] = resplb/nb_parties\n",
    "    \n",
    "plt.figure()\n",
    "plt.plot(ds, winrates_d_plb, 'c--', ds, np.full(ns.shape,0.5),'k')\n",
    "plt.show()"
   ]
  },
  {
   "cell_type": "markdown",
   "metadata": {},
   "source": [
    "# Addenda"
   ]
  },
  {
   "cell_type": "markdown",
   "metadata": {},
   "source": [
    "Code du programme linéaire pour la onzième question :"
   ]
  },
  {
   "cell_type": "code",
   "execution_count": null,
   "metadata": {},
   "outputs": [],
   "source": [
    "q = np.zeros(D)\n",
    "q[min(6,D)-1]=1\n",
    "eg = gain_matrix(D)\n",
    "eg_q = eg.dot(q)\n",
    "\n",
    "prob = LpProblem(\"Détermination de q\", LpMaximize)\n",
    "var = [LpVariable(\"x%d\" % i,lowBound=0,cat='Continuous') for i in range(1,D+1)]\n",
    "\n",
    "prob += lpSum([var[i]*eg_q[i] for i in range(D)])\n",
    "prob += lpSum(var) == 1 \n",
    "\n",
    "prob.solve()\n",
    "prob.writeLP(\"prob\")\n",
    "\n",
    "print(\"Total Optimum=\", value(prob.objective)) # doit être nul\n",
    "\n",
    "for v in prob.variables():\n",
    "    print(v.name, \"=\", v.varValue)"
   ]
  }
 ],
 "metadata": {
  "kernelspec": {
   "display_name": "Python 3",
   "language": "python",
   "name": "python3"
  },
  "language_info": {
   "codemirror_mode": {
    "name": "ipython",
    "version": 3
   },
   "file_extension": ".py",
   "mimetype": "text/x-python",
   "name": "python",
   "nbconvert_exporter": "python",
   "pygments_lexer": "ipython3",
   "version": "3.7.4"
  }
 },
 "nbformat": 4,
 "nbformat_minor": 2
}
